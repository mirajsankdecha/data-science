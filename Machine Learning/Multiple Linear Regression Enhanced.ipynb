{
 "cells": [
  {
   "cell_type": "markdown",
   "id": "58d76ce8",
   "metadata": {},
   "source": [
    "# **Multiple Linear Regression in Machine Learning**\n",
    "This notebook demonstrates how to implement Multiple Linear Regression using Python and the `scikit-learn` library. We will go through:\n",
    "- Data preprocessing\n",
    "- Model training\n",
    "- Model evaluation\n",
    "- Visualization of results"
   ]
  },
  {
   "cell_type": "markdown",
   "id": "da2cfd9e",
   "metadata": {},
   "source": [
    "## **1. Importing Necessary Libraries**\n",
    "We begin by importing the essential Python libraries required for data handling, visualization, and building a regression model."
   ]
  },
  {
   "cell_type": "code",
   "execution_count": null,
   "id": "17fc2658",
   "metadata": {},
   "outputs": [],
   "source": [
    "\n",
    "import numpy as np  # For numerical operations\n",
    "import pandas as pd  # For data manipulation\n",
    "import matplotlib.pyplot as plt  # For visualization\n",
    "import seaborn as sns  # For statistical visualizations\n",
    "from sklearn.model_selection import train_test_split  # To split data into training and testing sets\n",
    "from sklearn.linear_model import LinearRegression  # Multiple Linear Regression model\n",
    "from sklearn.metrics import mean_absolute_error, mean_squared_error, r2_score  # Performance evaluation metrics\n"
   ]
  },
  {
   "cell_type": "markdown",
   "id": "ed9239ce",
   "metadata": {},
   "source": [
    "## **2. Load and Explore Dataset**\n",
    "We read the dataset into a Pandas DataFrame and perform some basic exploratory analysis."
   ]
  },
  {
   "cell_type": "code",
   "execution_count": null,
   "id": "8939379e",
   "metadata": {},
   "outputs": [],
   "source": [
    "\n",
    "# Load dataset (Ensure to update the file path if necessary)\n",
    "file_path = \"sample_data.csv\"  \n",
    "df = pd.read_csv(file_path)\n",
    "\n",
    "# Display the first few rows of the dataset\n",
    "df.head()\n"
   ]
  },
  {
   "cell_type": "markdown",
   "id": "f62b13c4",
   "metadata": {},
   "source": [
    "### **Checking for Missing Values**\n",
    "Before proceeding, we check if there are any missing values in the dataset, as they can impact model performance."
   ]
  },
  {
   "cell_type": "code",
   "execution_count": null,
   "id": "b7bad629",
   "metadata": {},
   "outputs": [],
   "source": [
    "df.isnull().sum()"
   ]
  },
  {
   "cell_type": "markdown",
   "id": "cfdded09",
   "metadata": {},
   "source": [
    "## **3. Data Preprocessing**\n",
    "We define independent (X) and dependent (y) variables. In Multiple Linear Regression, we have multiple independent variables affecting the dependent variable."
   ]
  },
  {
   "cell_type": "code",
   "execution_count": null,
   "id": "b0677fa6",
   "metadata": {},
   "outputs": [],
   "source": [
    "\n",
    "# Define Independent (X) and Dependent (y) Variables\n",
    "X = df[['Feature1', 'Feature2', 'Feature3']]  # Replace with actual feature column names\n",
    "y = df['Target']  # Replace with actual target column name\n"
   ]
  },
  {
   "cell_type": "markdown",
   "id": "549a64aa",
   "metadata": {},
   "source": [
    "### **Splitting Data into Training and Testing Sets**\n",
    "We split the dataset into **80% training** and **20% testing** to evaluate the model’s performance."
   ]
  },
  {
   "cell_type": "code",
   "execution_count": null,
   "id": "5dedb9b9",
   "metadata": {},
   "outputs": [],
   "source": [
    "\n",
    "X_train, X_test, y_train, y_test = train_test_split(X, y, test_size=0.2, random_state=42)\n"
   ]
  },
  {
   "cell_type": "markdown",
   "id": "8a2345c0",
   "metadata": {},
   "source": [
    "## **4. Training the Multiple Linear Regression Model**\n",
    "We create an instance of the `LinearRegression` model and train it using the training data."
   ]
  },
  {
   "cell_type": "code",
   "execution_count": null,
   "id": "38157d0f",
   "metadata": {},
   "outputs": [],
   "source": [
    "\n",
    "# Initialize and Train the Model\n",
    "model = LinearRegression()\n",
    "model.fit(X_train, y_train)\n"
   ]
  },
  {
   "cell_type": "markdown",
   "id": "e0f0c668",
   "metadata": {},
   "source": [
    "### **Model Coefficients & Intercept**\n",
    "The coefficients represent how much the target variable changes with each predictor variable."
   ]
  },
  {
   "cell_type": "code",
   "execution_count": null,
   "id": "b67ee53f",
   "metadata": {},
   "outputs": [],
   "source": [
    "\n",
    "print(\"Intercept:\", model.intercept_)\n",
    "print(\"Coefficients:\", model.coef_)\n"
   ]
  },
  {
   "cell_type": "markdown",
   "id": "7e594022",
   "metadata": {},
   "source": [
    "## **5. Model Evaluation**\n",
    "We use performance metrics such as:\n",
    "- **Mean Absolute Error (MAE)**: Average absolute errors.\n",
    "- **Mean Squared Error (MSE)**: Average squared differences.\n",
    "- **Root Mean Squared Error (RMSE)**: Standard deviation of errors.\n",
    "- **R-squared Score (R²)**: Measures how well independent variables explain variability in the dependent variable."
   ]
  },
  {
   "cell_type": "code",
   "execution_count": null,
   "id": "8aeae69e",
   "metadata": {},
   "outputs": [],
   "source": [
    "\n",
    "# Predicting on Test Data\n",
    "y_pred = model.predict(X_test)\n",
    "\n",
    "# Calculating Evaluation Metrics\n",
    "mae = mean_absolute_error(y_test, y_pred)\n",
    "mse = mean_squared_error(y_test, y_pred)\n",
    "rmse = np.sqrt(mse)\n",
    "r2 = r2_score(y_test, y_pred)\n",
    "\n",
    "print(\"Mean Absolute Error (MAE):\", mae)\n",
    "print(\"Mean Squared Error (MSE):\", mse)\n",
    "print(\"Root Mean Squared Error (RMSE):\", rmse)\n",
    "print(\"R-squared Score (R²):\", r2)\n"
   ]
  },
  {
   "cell_type": "markdown",
   "id": "793d9678",
   "metadata": {},
   "source": [
    "## **6. Visualization of Predictions**\n",
    "A scatter plot is used to compare actual vs predicted values."
   ]
  },
  {
   "cell_type": "code",
   "execution_count": null,
   "id": "e8343458",
   "metadata": {},
   "outputs": [],
   "source": [
    "\n",
    "plt.figure(figsize=(8,5))\n",
    "sns.scatterplot(x=y_test, y=y_pred)\n",
    "plt.xlabel(\"Actual Values\")\n",
    "plt.ylabel(\"Predicted Values\")\n",
    "plt.title(\"Actual vs Predicted Values\")\n",
    "plt.show()\n"
   ]
  },
  {
   "cell_type": "markdown",
   "id": "22a11eae",
   "metadata": {},
   "source": [
    "## **Conclusion**\n",
    "- We successfully implemented Multiple Linear Regression.\n",
    "- We trained the model using multiple predictors.\n",
    "- Evaluated its performance using statistical metrics.\n",
    "- Visualized actual vs predicted values.\n",
    "\n",
    "**Next Steps:** You can experiment with different features or techniques like feature scaling and polynomial regression to improve accuracy."
   ]
  }
 ],
 "metadata": {
  "kernelspec": {
   "display_name": "Python 3 (ipykernel)",
   "language": "python",
   "name": "python3"
  },
  "language_info": {
   "codemirror_mode": {
    "name": "ipython",
    "version": 3
   },
   "file_extension": ".py",
   "mimetype": "text/x-python",
   "name": "python",
   "nbconvert_exporter": "python",
   "pygments_lexer": "ipython3",
   "version": "3.12.8"
  }
 },
 "nbformat": 4,
 "nbformat_minor": 4
}
