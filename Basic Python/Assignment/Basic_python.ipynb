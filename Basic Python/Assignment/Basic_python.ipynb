{
  "cells": [
    {
      "cell_type": "markdown",
      "metadata": {
        "id": "ToMade__MOkB"
      },
      "source": [
        "<center> <h1> Python Basics </h1> </center>\n",
        "\n",
        "![Python Image](https://media.giphy.com/media/2lbhL8dSGMh8I/giphy.gif)\n"
      ]
    },
    {
      "cell_type": "markdown",
      "source": [
        "Output"
      ],
      "metadata": {
        "id": "e_YesJ3JNzl2"
      }
    },
    {
      "cell_type": "code",
      "source": [],
      "metadata": {
        "id": "UDomgyhrONU8"
      },
      "execution_count": null,
      "outputs": []
    },
    {
      "cell_type": "code",
      "execution_count": null,
      "metadata": {
        "colab": {
          "base_uri": "https://localhost:8080/"
        },
        "id": "Qi0kgQ7fMOkI",
        "outputId": "fafebfcd-cd06-41b6-f847-2f7ea59625ee"
      },
      "outputs": [
        {
          "output_type": "stream",
          "name": "stdout",
          "text": [
            "Hello Students\n"
          ]
        }
      ],
      "source": [
        "# This is a comment\n",
        "# Shift + enter\n",
        "print(\"Hello Students\")"
      ]
    },
    {
      "cell_type": "code",
      "execution_count": null,
      "metadata": {
        "id": "BiJ2SuvMMOkO",
        "outputId": "7cd72262-cf9f-41c5-9793-67520a5e9abe"
      },
      "outputs": [
        {
          "name": "stdout",
          "output_type": "stream",
          "text": [
            "Python Data Science 100\n"
          ]
        }
      ],
      "source": [
        "# You can print multiple objects seperated with comma\n",
        "print(\"Python\", \"Data Science\", 100)"
      ]
    },
    {
      "cell_type": "markdown",
      "metadata": {
        "id": "HxtyKLR6MOkQ"
      },
      "source": [
        "### Variables\n",
        "- a placeholder for storing values/data\n",
        "\n",
        "All the variables have data types. Use `type(var)` to check the datatype"
      ]
    },
    {
      "cell_type": "code",
      "execution_count": null,
      "metadata": {
        "id": "oIWng4p_MOkS"
      },
      "outputs": [],
      "source": [
        "# creating a variable\n",
        "i = 5"
      ]
    },
    {
      "cell_type": "code",
      "execution_count": null,
      "metadata": {
        "id": "dH2dwuCzMOkU",
        "outputId": "673c91ef-2b1b-4dea-82b3-52ad9cb6f07f"
      },
      "outputs": [
        {
          "name": "stdout",
          "output_type": "stream",
          "text": [
            "5\n"
          ]
        }
      ],
      "source": [
        "print(i)"
      ]
    },
    {
      "cell_type": "code",
      "execution_count": null,
      "metadata": {
        "id": "Vvlz3tJOMOkV",
        "outputId": "863556e0-ad01-49fb-f9c3-3e9dbb68abf0"
      },
      "outputs": [
        {
          "data": {
            "text/plain": [
              "int"
            ]
          },
          "execution_count": 10,
          "metadata": {},
          "output_type": "execute_result"
        }
      ],
      "source": [
        "type(i)"
      ]
    },
    {
      "cell_type": "markdown",
      "metadata": {
        "id": "68GEm8apMOkW"
      },
      "source": [
        "- Python is dynamic typed Language\n",
        "- same variables can take values of different data-types."
      ]
    },
    {
      "cell_type": "code",
      "execution_count": null,
      "metadata": {
        "id": "Q_9s0cz3MOkX"
      },
      "outputs": [],
      "source": [
        "i = \"Coding Minutes\""
      ]
    },
    {
      "cell_type": "code",
      "execution_count": null,
      "metadata": {
        "id": "zjqE9QscMOkY",
        "outputId": "b0947af9-8065-4749-d2d2-f84b7abb3d0e"
      },
      "outputs": [
        {
          "name": "stdout",
          "output_type": "stream",
          "text": [
            "Coding Minutes\n"
          ]
        }
      ],
      "source": [
        "print(i)"
      ]
    },
    {
      "cell_type": "code",
      "execution_count": null,
      "metadata": {
        "id": "_k07AyWXMOka",
        "outputId": "9f834a9e-ad1d-4fa6-fb77-1c2c13cb56b6"
      },
      "outputs": [
        {
          "data": {
            "text/plain": [
              "str"
            ]
          },
          "execution_count": 13,
          "metadata": {},
          "output_type": "execute_result"
        }
      ],
      "source": [
        "type(i)"
      ]
    },
    {
      "cell_type": "markdown",
      "metadata": {
        "id": "P0v1-QPDMOkb"
      },
      "source": [
        "### Basic Datatypes\n",
        "- int\n",
        "- float\n",
        "- string\n",
        "- Boolean\n",
        "- None"
      ]
    },
    {
      "cell_type": "code",
      "execution_count": null,
      "metadata": {
        "id": "pq89INCRMOkc",
        "outputId": "870a8652-fbc8-484a-d2fe-97b752f5d257"
      },
      "outputs": [
        {
          "name": "stdout",
          "output_type": "stream",
          "text": [
            "56.7\n",
            "<class 'float'>\n"
          ]
        }
      ],
      "source": [
        "my_f = 56.7\n",
        "\n",
        "print(my_f)\n",
        "print(type(my_f))"
      ]
    },
    {
      "cell_type": "code",
      "execution_count": null,
      "metadata": {
        "id": "bXwdsfOIMOke",
        "outputId": "6b275aba-81d3-41c7-a84f-2d965ce15f5b"
      },
      "outputs": [
        {
          "name": "stdout",
          "output_type": "stream",
          "text": [
            "True\n",
            "<class 'bool'>\n"
          ]
        }
      ],
      "source": [
        "my_bool = True    # or False\n",
        "\n",
        "print(my_bool)\n",
        "print(type(my_bool))"
      ]
    },
    {
      "cell_type": "code",
      "execution_count": null,
      "metadata": {
        "id": "uV-OQbSeMOkf",
        "outputId": "81f3cf82-cd74-491a-9af6-012af4ef7232"
      },
      "outputs": [
        {
          "name": "stdout",
          "output_type": "stream",
          "text": [
            "None\n",
            "<class 'NoneType'>\n"
          ]
        }
      ],
      "source": [
        "my_none = None\n",
        "\n",
        "print(my_none)\n",
        "print(type(my_none))"
      ]
    },
    {
      "cell_type": "markdown",
      "metadata": {
        "id": "jElz5qE5MOki"
      },
      "source": [
        "# Input\n",
        "`input()` : always returns a str value"
      ]
    },
    {
      "cell_type": "code",
      "source": [
        "a=inpu"
      ],
      "metadata": {
        "id": "4-u1WSAtTzo6"
      },
      "execution_count": null,
      "outputs": []
    },
    {
      "cell_type": "code",
      "execution_count": null,
      "metadata": {
        "id": "f28TuyekMOkj"
      },
      "outputs": [],
      "source": [
        "name = input(\"Enter your name :\")"
      ]
    },
    {
      "cell_type": "code",
      "execution_count": null,
      "metadata": {
        "id": "KSShJe2LMOkk",
        "outputId": "c5506ee6-35db-466c-cb12-43662549ba59"
      },
      "outputs": [
        {
          "name": "stdout",
          "output_type": "stream",
          "text": [
            "Mohit\n",
            "<class 'str'>\n"
          ]
        }
      ],
      "source": [
        "print(name)\n",
        "\n",
        "print(type(name))"
      ]
    },
    {
      "cell_type": "markdown",
      "metadata": {
        "id": "Qh60IDyvMOkm"
      },
      "source": [
        "#### Type Casting\n",
        "    - converts one datatype to another"
      ]
    },
    {
      "cell_type": "code",
      "source": [
        "num=8\n",
        "type(num)"
      ],
      "metadata": {
        "colab": {
          "base_uri": "https://localhost:8080/"
        },
        "id": "GqV7MllkdKjU",
        "outputId": "304c88f3-d76f-4144-cb38-b8fa13b6e00f"
      },
      "execution_count": null,
      "outputs": [
        {
          "output_type": "execute_result",
          "data": {
            "text/plain": [
              "int"
            ]
          },
          "metadata": {},
          "execution_count": 1
        }
      ]
    },
    {
      "cell_type": "code",
      "execution_count": null,
      "metadata": {
        "id": "pbQzai55MOkn",
        "outputId": "e029ddbe-7135-4af0-86b3-cd63dc1e9b86",
        "colab": {
          "base_uri": "https://localhost:8080/"
        }
      },
      "outputs": [
        {
          "output_type": "stream",
          "name": "stdout",
          "text": [
            "<class 'str'>\n"
          ]
        }
      ],
      "source": [
        "num = '8'\n",
        "print(type(num))"
      ]
    },
    {
      "cell_type": "code",
      "execution_count": null,
      "metadata": {
        "id": "kJC_pVG9MOko",
        "outputId": "52b3b1c3-d5dd-46bb-dddc-764c593799e6"
      },
      "outputs": [
        {
          "name": "stdout",
          "output_type": "stream",
          "text": [
            "<class 'int'>\n"
          ]
        }
      ],
      "source": [
        "num = int(num)\n",
        "\n",
        "print(type(num))"
      ]
    },
    {
      "cell_type": "code",
      "execution_count": null,
      "metadata": {
        "id": "jy20yOpuMOkp",
        "outputId": "bbfe235f-c1d1-41fd-96a2-af2da9ccf378",
        "colab": {
          "base_uri": "https://localhost:8080/"
        }
      },
      "outputs": [
        {
          "name": "stdout",
          "output_type": "stream",
          "text": [
            "What's your age ? 34\n"
          ]
        }
      ],
      "source": [
        "# Type Casting\n",
        "age = int(input(\"What's your age ? \"))"
      ]
    },
    {
      "cell_type": "code",
      "execution_count": null,
      "metadata": {
        "id": "5TB6p80aMOkq",
        "outputId": "33f3e2dd-da36-429f-ac80-657e2f552587",
        "colab": {
          "base_uri": "https://localhost:8080/"
        }
      },
      "outputs": [
        {
          "output_type": "stream",
          "name": "stdout",
          "text": [
            "34\n",
            "<class 'int'>\n"
          ]
        }
      ],
      "source": [
        "print(age)\n",
        "\n",
        "print(type(age))"
      ]
    },
    {
      "cell_type": "markdown",
      "metadata": {
        "id": "ZYJiujYQMOku"
      },
      "source": [
        "# Operators\n",
        " - **Arithmatic Operators**\n",
        "     `+ , - , * , / , // , **, %`\n",
        "\n",
        " - **Comparison Operator**\n",
        "     `> , < , >= , <= , == , !=`\n",
        "     \n",
        " - **Logical Operator**\n",
        "     `and , or , not `\n",
        "     \n",
        " - **Bitwise Operator**\n",
        "     `& , | , ^  `\n",
        "\n",
        " - **Membership Operator**\n",
        "     `in`"
      ]
    },
    {
      "cell_type": "markdown",
      "metadata": {
        "id": "fNf1v6U8MOkv"
      },
      "source": [
        "### Arithmatic\n",
        "\n",
        "![arithmatic](./images/arithmatic.png)"
      ]
    },
    {
      "cell_type": "code",
      "execution_count": null,
      "metadata": {
        "id": "CfaL3PS5MOkx"
      },
      "outputs": [],
      "source": [
        "no1 = 12\n",
        "no2 = 3"
      ]
    },
    {
      "cell_type": "code",
      "execution_count": null,
      "metadata": {
        "id": "QeIORLyHMOky"
      },
      "outputs": [],
      "source": [
        "add = no1 + no2\n",
        "sub = no1 - no2\n",
        "mul = no1 * no2\n",
        "div = no1 / no2\n",
        "f_div = no1 // no2\n",
        "exp = no1 ** no2\n",
        "mod = no1 % no2"
      ]
    },
    {
      "cell_type": "code",
      "execution_count": null,
      "metadata": {
        "id": "j0SLtWj-MOkz",
        "outputId": "0ca52798-5c3b-4514-aee7-621664d57903"
      },
      "outputs": [
        {
          "name": "stdout",
          "output_type": "stream",
          "text": [
            "a+b = 15\n",
            "a-b = 9\n",
            "a*b = 36\n",
            "a/b = 4.0\n",
            "a//b = 4\n",
            "a**b = 1728\n",
            "a%b = 0\n"
          ]
        }
      ],
      "source": [
        "print(\"a+b =\" , add)\n",
        "print(\"a-b =\", sub)\n",
        "print(\"a*b =\", mul)\n",
        "print(\"a/b =\", div)\n",
        "print(\"a//b =\", f_div)\n",
        "print(\"a**b =\", exp)\n",
        "print(\"a%b =\", mod)"
      ]
    },
    {
      "cell_type": "markdown",
      "metadata": {
        "id": "glF_48syMOk0"
      },
      "source": [
        "### Comparison\n",
        "\n",
        "![comparison](./images/comparison.svg)"
      ]
    },
    {
      "cell_type": "code",
      "execution_count": null,
      "metadata": {
        "id": "17Naju3rMOk1",
        "outputId": "94c9a3b0-0fa6-4db5-9f2d-4138c0b15ec4",
        "colab": {
          "base_uri": "https://localhost:8080/"
        }
      },
      "outputs": [
        {
          "output_type": "stream",
          "name": "stdout",
          "text": [
            "a>b : True\n",
            "a<b : False\n",
            "a==b : False\n",
            "a!=b : True\n"
          ]
        }
      ],
      "source": [
        "print(\"a>b :\" , no1>no2)\n",
        "\n",
        "print(\"a<b :\", no1<no2)\n",
        "\n",
        "print(\"a==b :\", no1==no2)\n",
        "\n",
        "print(\"a!=b :\", no1!=no2)"
      ]
    },
    {
      "cell_type": "code",
      "source": [
        "a=8\n",
        "b=4\n",
        "c=a and b\n",
        "print(c)"
      ],
      "metadata": {
        "id": "4cnPTs0XrE98"
      },
      "execution_count": null,
      "outputs": []
    },
    {
      "cell_type": "markdown",
      "metadata": {
        "id": "a5lGQP3pMOmJ"
      },
      "source": [
        "### Logical\n",
        "\n",
        "`and`  : return True when both the conditions are True, otherwise false\n",
        "\n",
        "`or`   : return True even when one of the condition is True. False if both the conditions are False\n",
        "\n",
        "`not`  : return Negation\n"
      ]
    },
    {
      "cell_type": "code",
      "execution_count": null,
      "metadata": {
        "id": "QfrjcIlRMOmK",
        "outputId": "bc3c55eb-c688-4289-c76b-fd9d8b1f799d"
      },
      "outputs": [
        {
          "name": "stdout",
          "output_type": "stream",
          "text": [
            "False\n"
          ]
        }
      ],
      "source": [
        "print( (10>5) and (10 < 6) )"
      ]
    },
    {
      "cell_type": "code",
      "execution_count": null,
      "metadata": {
        "id": "tJfTJNIgMOmL",
        "outputId": "7711b0de-8960-48ba-9abd-9a30c46fc420"
      },
      "outputs": [
        {
          "name": "stdout",
          "output_type": "stream",
          "text": [
            "True\n"
          ]
        }
      ],
      "source": [
        "print( (10>5) or (10 <3))"
      ]
    },
    {
      "cell_type": "code",
      "execution_count": null,
      "metadata": {
        "id": "lIUj931ZMOmN",
        "outputId": "eef9cf32-82fa-4260-f43d-8fe307cf2bbd"
      },
      "outputs": [
        {
          "name": "stdout",
          "output_type": "stream",
          "text": [
            "True\n"
          ]
        }
      ],
      "source": [
        "print( not False )"
      ]
    },
    {
      "cell_type": "markdown",
      "metadata": {
        "id": "8v5voGd1MOmO"
      },
      "source": [
        "### Bitwise"
      ]
    },
    {
      "cell_type": "code",
      "execution_count": null,
      "metadata": {
        "id": "-DM3tB1AMOmP",
        "outputId": "9e9094a3-54fa-4b8b-9224-2b56d8987ed7"
      },
      "outputs": [
        {
          "name": "stdout",
          "output_type": "stream",
          "text": [
            "0\n"
          ]
        }
      ],
      "source": [
        "# bitwise & of 10 with 4\n",
        "print( 10 & 4)"
      ]
    },
    {
      "cell_type": "code",
      "execution_count": null,
      "metadata": {
        "id": "tu9kY304MOmQ",
        "outputId": "53fda031-682a-42e3-e26a-e94ec4d08b03"
      },
      "outputs": [
        {
          "name": "stdout",
          "output_type": "stream",
          "text": [
            "14\n"
          ]
        }
      ],
      "source": [
        "# bitwise | of 10 with 4\n",
        "print(10 | 4)"
      ]
    },
    {
      "cell_type": "markdown",
      "metadata": {
        "id": "wewzIeliMOmR"
      },
      "source": [
        "### Membership\n",
        "    - in"
      ]
    },
    {
      "cell_type": "code",
      "source": [
        "\"The\" in \"Good Morning\""
      ],
      "metadata": {
        "colab": {
          "base_uri": "https://localhost:8080/"
        },
        "id": "n_0iMaesYUkk",
        "outputId": "29797c08-6da8-4312-855c-a6d45c187893"
      },
      "execution_count": null,
      "outputs": [
        {
          "output_type": "execute_result",
          "data": {
            "text/plain": [
              "False"
            ]
          },
          "metadata": {},
          "execution_count": 6
        }
      ]
    },
    {
      "cell_type": "code",
      "execution_count": null,
      "metadata": {
        "id": "misNEyF-MOmS",
        "outputId": "d98b52a4-16f4-4e31-a25c-2123bcfd5907",
        "colab": {
          "base_uri": "https://localhost:8080/"
        }
      },
      "outputs": [
        {
          "output_type": "execute_result",
          "data": {
            "text/plain": [
              "True"
            ]
          },
          "metadata": {},
          "execution_count": 5
        }
      ],
      "source": [
        "\"Good\" in \"Good Morning\""
      ]
    },
    {
      "cell_type": "markdown",
      "metadata": {
        "id": "95MgUdyfMOmX"
      },
      "source": [
        "# Control Flow : Conditional Statements\n",
        "`if, else, elif`\n",
        "\n",
        "\n",
        "    if (test expression):\n",
        "        statements\n",
        "    else:\n",
        "        statements\n",
        "            \n",
        "![if else](./images/ifelse.jpg)            "
      ]
    },
    {
      "cell_type": "code",
      "execution_count": null,
      "metadata": {
        "id": "1kc-iRD7MOmZ",
        "outputId": "bd5aa9fc-f009-41b7-ab85-5a59f402882c",
        "colab": {
          "base_uri": "https://localhost:8080/"
        }
      },
      "outputs": [
        {
          "output_type": "stream",
          "name": "stdout",
          "text": [
            "Grow Up First.\n"
          ]
        }
      ],
      "source": [
        "age = 14\n",
        "\n",
        "\n",
        "if (age >= 18):\n",
        "  print(\"You're eligible to Vote.\")\n",
        "else:\n",
        "    print(\"Grow Up First.\")\n"
      ]
    },
    {
      "cell_type": "code",
      "execution_count": null,
      "metadata": {
        "id": "zmzyRRDxMOma",
        "outputId": "73e0f85c-c14c-4937-ceb0-b2e13a2d70c7"
      },
      "outputs": [
        {
          "name": "stdout",
          "output_type": "stream",
          "text": [
            "Grow up First.\n"
          ]
        }
      ],
      "source": [
        "age = 17\n",
        "\n",
        "if (age >= 18):\n",
        "    print(\"You can vote.\")\n",
        "elif ( age >= 15):\n",
        "    print(\"Grow up First.\")\n",
        "else:\n",
        "    print(\"Go Home Kid..\")"
      ]
    },
    {
      "cell_type": "markdown",
      "metadata": {
        "id": "GtzS0Dc4MOmf"
      },
      "source": [
        "# Control Flow : Iterations/Loops\n",
        "\n",
        "- `while loop`\n",
        "- `for loop`\n",
        "    \n",
        "    \n",
        "    while (test-expression):\n",
        "        body of while\n",
        "\n",
        "\n",
        "\n",
        "![loops](https://media.giphy.com/media/ieaUdBJJC19uw/giphy-downsized.gif)\n"
      ]
    },
    {
      "cell_type": "markdown",
      "metadata": {
        "id": "Hpv6Gnx-MOmg"
      },
      "source": [
        "**Q- Print all even numbers from 1 to 20**"
      ]
    },
    {
      "cell_type": "code",
      "execution_count": null,
      "metadata": {
        "id": "XFuTj1MSMOmh",
        "outputId": "66369bd9-9d92-4678-ca89-339d915250f8"
      },
      "outputs": [
        {
          "name": "stdout",
          "output_type": "stream",
          "text": [
            "2\n",
            "4\n",
            "6\n",
            "8\n",
            "10\n",
            "12\n",
            "14\n",
            "16\n",
            "18\n",
            "20\n"
          ]
        }
      ],
      "source": [
        "#### BAD WAY!!!\n",
        "\n",
        "print(2)\n",
        "print(4)\n",
        "print(6)\n",
        "print(8)\n",
        "print(10)\n",
        "print(12)\n",
        "print(14)\n",
        "print(16)\n",
        "print(18)\n",
        "print(20)"
      ]
    },
    {
      "cell_type": "code",
      "execution_count": null,
      "metadata": {
        "id": "Ot2EfyLWMOmj",
        "outputId": "6d4e651b-fcb4-4510-c900-21ff4a0ed99e",
        "colab": {
          "base_uri": "https://localhost:8080/"
        }
      },
      "outputs": [
        {
          "output_type": "stream",
          "name": "stdout",
          "text": [
            "Odd 1 Even 2, Odd 3 Even 4, Odd 5 Even 6, Odd 7 Even 8, Odd 9 Even 10, Odd 11 Even 12, Odd 13 Even 14, Odd 15 Even 16, Odd 17 Even 18, Odd 19 Even 20, "
          ]
        }
      ],
      "source": [
        "i = 1\n",
        "\n",
        "while (i <=20):\n",
        "    if(i%2 == 0):\n",
        "        print(\"Even\",i, end=\", \")\n",
        "    else:\n",
        "        print(\"Odd\",i,end=\" \")\n",
        "    i = i+1"
      ]
    },
    {
      "cell_type": "code",
      "execution_count": null,
      "metadata": {
        "id": "WbvosEdSMOmk",
        "colab": {
          "base_uri": "https://localhost:8080/"
        },
        "outputId": "d5342c67-1890-411e-d35f-826d977f51fd"
      },
      "outputs": [
        {
          "output_type": "stream",
          "name": "stdout",
          "text": [
            "* \n",
            "\n",
            "* \n",
            "\n",
            "* \n",
            "\n",
            "* \n",
            "\n",
            "* \n",
            "\n"
          ]
        }
      ],
      "source": [
        "\n",
        "for i in range(1, 6):\n",
        "              print(\"* \\n\")"
      ]
    },
    {
      "cell_type": "markdown",
      "source": [
        "PATTERN"
      ],
      "metadata": {
        "id": "3HkOzZdtNJsl"
      }
    },
    {
      "cell_type": "code",
      "source": [
        "for i in range(1 , 6):\n",
        "  for j in range( 1, 6):\n",
        "    print(\"* \", end =\" \")\n",
        "  print(\" \")\n",
        "\n"
      ],
      "metadata": {
        "colab": {
          "base_uri": "https://localhost:8080/"
        },
        "id": "2DeFMZFCk0vC",
        "outputId": "2c04e15b-508d-4b0f-d4e1-f6c15c0bc5f6"
      },
      "execution_count": null,
      "outputs": [
        {
          "output_type": "stream",
          "name": "stdout",
          "text": [
            "*  *  *  *  *   \n",
            "*  *  *  *  *   \n",
            "*  *  *  *  *   \n",
            "*  *  *  *  *   \n",
            "*  *  *  *  *   \n"
          ]
        }
      ]
    },
    {
      "cell_type": "code",
      "source": [
        "for i in range(1 , 6, 1):\n",
        "  for j in range( 1, i+1,1):\n",
        "    print(\"* \", end =\" \")\n",
        "  print(\" \")\n",
        "\n"
      ],
      "metadata": {
        "colab": {
          "base_uri": "https://localhost:8080/"
        },
        "id": "xRa6FuX0NNI5",
        "outputId": "54493dc2-a134-4845-b744-6c1b513d2aa5"
      },
      "execution_count": null,
      "outputs": [
        {
          "output_type": "stream",
          "name": "stdout",
          "text": [
            "*   \n",
            "*  *   \n",
            "*  *  *   \n",
            "*  *  *  *   \n",
            "*  *  *  *  *   \n"
          ]
        }
      ]
    },
    {
      "cell_type": "code",
      "source": [
        "for i in range(5, 0, -1):\n",
        "  print(\"* \" * i)"
      ],
      "metadata": {
        "colab": {
          "base_uri": "https://localhost:8080/"
        },
        "id": "DKqcWZi0PxBD",
        "outputId": "646295f3-ab4c-4a9c-8d8d-28b09de8329f"
      },
      "execution_count": null,
      "outputs": [
        {
          "output_type": "stream",
          "name": "stdout",
          "text": [
            "* * * * * \n",
            "* * * * \n",
            "* * * \n",
            "* * \n",
            "* \n"
          ]
        }
      ]
    },
    {
      "cell_type": "code",
      "source": [
        "REVERSE PATTERN"
      ],
      "metadata": {
        "id": "K6ImxkY8Nme1"
      },
      "execution_count": null,
      "outputs": []
    },
    {
      "cell_type": "code",
      "execution_count": null,
      "metadata": {
        "id": "rIMAIy65MOml",
        "outputId": "165f05c4-6b07-4bf7-bfb4-d0fe90ba5f24"
      },
      "outputs": [
        {
          "name": "stdout",
          "output_type": "stream",
          "text": [
            "2 4 6 8 10 12 14 16 18 20 "
          ]
        }
      ],
      "source": [
        "# end=\" \" paramter is used to print everything in one line\n",
        "\n",
        "for i in range(1, 21):\n",
        "    if(i%2 == 0):\n",
        "        print(i, end=\" \")"
      ]
    },
    {
      "cell_type": "code",
      "execution_count": null,
      "metadata": {
        "id": "J9c_H1C6MOmm",
        "outputId": "cf7a8c31-66d7-46c9-ac43-01f4705bf74e"
      },
      "outputs": [
        {
          "name": "stdout",
          "output_type": "stream",
          "text": [
            "2 4 6 8 10 12 14 16 18 20 "
          ]
        }
      ],
      "source": [
        "# range(start, end, step)\n",
        "\n",
        "for i in range(2, 21, 2):\n",
        "    print(i, end= \" \")"
      ]
    },
    {
      "cell_type": "code",
      "execution_count": null,
      "metadata": {
        "id": "vOnEf40CMOmo",
        "outputId": "aae5d650-565e-4a75-c5ab-c66c646d4585"
      },
      "outputs": [
        {
          "name": "stdout",
          "output_type": "stream",
          "text": [
            "9 x 1 = 9\n",
            "9 x 2 = 18\n",
            "9 x 3 = 27\n",
            "9 x 4 = 36\n",
            "9 x 5 = 45\n",
            "9 x 6 = 54\n",
            "9 x 7 = 63\n",
            "9 x 8 = 72\n",
            "9 x 9 = 81\n",
            "9 x 10 = 90\n"
          ]
        }
      ],
      "source": [
        "## Multiples of a Number\n",
        "\n",
        "n = 9\n",
        "\n",
        "for i in range(1, 11):\n",
        "    print(n, \"x\", i, \"=\", i*n)"
      ]
    },
    {
      "cell_type": "code",
      "execution_count": null,
      "metadata": {
        "id": "EoGT6Nc5MOmp",
        "colab": {
          "base_uri": "https://localhost:8080/"
        },
        "outputId": "1035f411-0457-413a-ce12-13d53de36e69"
      },
      "outputs": [
        {
          "name": "stdout",
          "output_type": "stream",
          "text": [
            "What's your age ? 24\n"
          ]
        },
        {
          "output_type": "execute_result",
          "data": {
            "text/plain": [
              "str"
            ]
          },
          "metadata": {},
          "execution_count": 4
        }
      ],
      "source": [
        "age = input(\"What's your age ? \")\n",
        "type(age)"
      ]
    },
    {
      "cell_type": "code",
      "execution_count": null,
      "metadata": {
        "id": "mRow67rsMOmq",
        "colab": {
          "base_uri": "https://localhost:8080/"
        },
        "outputId": "586d12e6-6a93-4321-d4ea-103dc4939b37"
      },
      "outputs": [
        {
          "name": "stdout",
          "output_type": "stream",
          "text": [
            "What's your age ? 24\n"
          ]
        },
        {
          "output_type": "execute_result",
          "data": {
            "text/plain": [
              "int"
            ]
          },
          "metadata": {},
          "execution_count": 5
        }
      ],
      "source": [
        "age = int(input(\"What's your age ? \"))\n",
        "type(age)"
      ]
    },
    {
      "cell_type": "markdown",
      "metadata": {
        "id": "jx7WsBh5MOms"
      },
      "source": [
        "### Break and Continue\n",
        " - whenever we wants to terminates the loop iteration that's where break and continue are used.\n",
        "\n",
        "`break` : used to exit all coming iterations in loop\n",
        "\n",
        "`continue`  : it just skips the current iteration and moves to the next iteration.\n",
        "\n",
        "\n",
        "<img src=\"./images/break_continue.jpg\" width=\"500\">"
      ]
    },
    {
      "cell_type": "code",
      "execution_count": null,
      "metadata": {
        "id": "eNIyjxNaMOmt",
        "outputId": "d93abb75-23a5-4160-9ca7-4c23d62c8940"
      },
      "outputs": [
        {
          "name": "stdout",
          "output_type": "stream",
          "text": [
            "1\n",
            "2\n",
            "3\n",
            "4\n"
          ]
        }
      ],
      "source": [
        "for i in range(1, 10):\n",
        "    if (i==5):\n",
        "        break\n",
        "    print(i)"
      ]
    },
    {
      "cell_type": "code",
      "execution_count": null,
      "metadata": {
        "id": "7T2cpa1mMOmv",
        "outputId": "4ddc9ccb-2563-4fd4-af74-1be1157b8b8f"
      },
      "outputs": [
        {
          "name": "stdout",
          "output_type": "stream",
          "text": [
            "1\n",
            "2\n",
            "3\n",
            "4\n",
            "6\n",
            "7\n",
            "8\n",
            "9\n"
          ]
        }
      ],
      "source": [
        "# 5 is skipped\n",
        "for i in range(1, 10):\n",
        "    if (i==5):\n",
        "        continue\n",
        "    print(i)"
      ]
    },
    {
      "cell_type": "code",
      "execution_count": null,
      "metadata": {
        "id": "VqADOoo5MOmw",
        "colab": {
          "base_uri": "https://localhost:8080/"
        },
        "outputId": "331e9a71-8b52-4604-f560-307b73b56c40"
      },
      "outputs": [
        {
          "output_type": "stream",
          "name": "stdout",
          "text": [
            "Enter number153\n",
            "153 is an Armstrong number.\n"
          ]
        }
      ],
      "source": [
        "num=int(input(\"Enter number\"))\n",
        "#num = 153\n",
        "n = 0\n",
        "temp = num\n",
        "while temp > 0:\n",
        "    temp = temp // 10\n",
        "    n = n + 1\n",
        "sum_powers = 0\n",
        "temp = num\n",
        "while temp > 0:\n",
        "    digit = temp % 10\n",
        "    sum_powers = sum_powers + digit ** n\n",
        "    temp = temp // 10\n",
        "if sum_powers == num:\n",
        "    print(f\"{num} is an Armstrong number.\")\n",
        "else:\n",
        "    print(f\"{num} is not an Armstrong number.\")\n"
      ]
    },
    {
      "cell_type": "markdown",
      "metadata": {
        "id": "trUBgsl_MOm7"
      },
      "source": [
        "# Challenges :"
      ]
    },
    {
      "cell_type": "markdown",
      "metadata": {
        "id": "dzXESBuRMOm8"
      },
      "source": [
        "**Challenge 1** : Write a Program to Check for a number is Odd/Even\n",
        "\n",
        "**Challenge 2** : Write a Program to find the largest number among 3 given numbers. _(Take 3 numbers input from user)_"
      ]
    },
    {
      "cell_type": "code",
      "source": [
        "n=int(input(\"enter a number:\"))\n",
        "fact=1\n",
        "for i in range(1,n+1):\n",
        "  fact=fact*i\n",
        "print(fact)"
      ],
      "metadata": {
        "colab": {
          "base_uri": "https://localhost:8080/"
        },
        "id": "MhUQw5g3yVuL",
        "outputId": "fb18905b-edbe-45a3-fe0f-4709211c09fd"
      },
      "execution_count": null,
      "outputs": [
        {
          "output_type": "stream",
          "name": "stdout",
          "text": [
            "enter a number:5\n",
            "1\n",
            "2\n",
            "6\n",
            "24\n",
            "120\n"
          ]
        }
      ]
    },
    {
      "cell_type": "markdown",
      "metadata": {
        "id": "5U56QkbaMOm9"
      },
      "source": [
        "**Challenge 1:** Write a Program to calculate the factorial of a Given Number\n",
        "\n",
        "**Challenge 2:** Write a Program to check if a given number is Prime or Not"
      ]
    },
    {
      "cell_type": "code",
      "execution_count": null,
      "metadata": {
        "id": "tmT1_oyXMOm-",
        "colab": {
          "base_uri": "https://localhost:8080/"
        },
        "outputId": "9c454893-d4c0-4e4c-e296-4a6e402c1ce2"
      },
      "outputs": [
        {
          "output_type": "stream",
          "name": "stdout",
          "text": [
            "Enter The Number : 5\n",
            "It is Not Prime Number\n"
          ]
        }
      ],
      "source": [
        "num = int(input(\"Enter The Number : \"))\n",
        "\n",
        "if num > 1 :\n",
        "  for i in range(2,num) :\n",
        "    if i % 2 == 0 :\n",
        "      print(\"It is Not Prime Number\")\n",
        "      break\n",
        "    else :\n",
        "      print(\"It is Prime Number\")"
      ]
    },
    {
      "cell_type": "code",
      "source": [],
      "metadata": {
        "id": "I7fe2mnd4N08"
      },
      "execution_count": null,
      "outputs": []
    }
  ],
  "metadata": {
    "kernelspec": {
      "display_name": "Python 3",
      "language": "python",
      "name": "python3"
    },
    "language_info": {
      "codemirror_mode": {
        "name": "ipython",
        "version": 3
      },
      "file_extension": ".py",
      "mimetype": "text/x-python",
      "name": "python",
      "nbconvert_exporter": "python",
      "pygments_lexer": "ipython3",
      "version": "3.8.5"
    },
    "colab": {
      "provenance": []
    }
  },
  "nbformat": 4,
  "nbformat_minor": 0
}