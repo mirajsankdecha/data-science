{
  "nbformat": 4,
  "nbformat_minor": 0,
  "metadata": {
    "colab": {
      "provenance": []
    },
    "kernelspec": {
      "name": "python3",
      "display_name": "Python 3"
    },
    "language_info": {
      "name": "python"
    }
  },
  "cells": [
    {
      "cell_type": "markdown",
      "source": [
        "A *Lambda function* in Python is a small, anonymous function defined with the lambda keyword. It can have any number of arguments, but only one expression. The result of the expression is returned when the function is called. Lambda functions are often used when a simple function is needed for a short period and are typically used in conjunction with functions like map(), filter(), or sorted()."
      ],
      "metadata": {
        "id": "jsskkOUQ0Ba7"
      }
    },
    {
      "cell_type": "markdown",
      "source": [
        "### Syntax:\n",
        "python\n",
        "lambda arguments: expression\n"
      ],
      "metadata": {
        "id": "J2I4saO30IL6"
      }
    },
    {
      "cell_type": "code",
      "source": [
        "# Lambda function to add 10 to a given number\n",
        "add_ten = lambda x: x + 10\n",
        "print(add_ten(15))"
      ],
      "metadata": {
        "colab": {
          "base_uri": "https://localhost:8080/"
        },
        "id": "_B4c-S3v0HqD",
        "outputId": "c50ce626-2c2b-406a-9cd0-ec1be2608e69"
      },
      "execution_count": 2,
      "outputs": [
        {
          "output_type": "stream",
          "name": "stdout",
          "text": [
            "25\n"
          ]
        }
      ]
    },
    {
      "cell_type": "code",
      "source": [
        "# Lambda function to add two numbers\n",
        "add_two_numbers = lambda a, b: a + b\n",
        "print(add_two_numbers(3, 7))"
      ],
      "metadata": {
        "id": "JutN2Sb30FZn",
        "colab": {
          "base_uri": "https://localhost:8080/"
        },
        "outputId": "fa6c2f75-f31a-4574-b092-94d20e8a5548"
      },
      "execution_count": 3,
      "outputs": [
        {
          "output_type": "stream",
          "name": "stdout",
          "text": [
            "10\n"
          ]
        }
      ]
    },
    {
      "cell_type": "code",
      "source": [
        "# Filter even numbers from a list\n",
        "numbers = [1, 2, 3, 4, 5, 6]\n",
        "even_numbers = list(filter(lambda x: x % 2 == 0, numbers))\n",
        "print(even_numbers)"
      ],
      "metadata": {
        "id": "gOcAnRz70YqH"
      },
      "execution_count": null,
      "outputs": []
    },
    {
      "cell_type": "code",
      "source": [
        "# Square all elements in a list\n",
        "numbers = [1, 2, 3, 4]\n",
        "squared_numbers = list(map(lambda x: x ** 2, numbers))\n",
        "print(squared_numbers)"
      ],
      "metadata": {
        "id": "NrTBz-GF0gQW",
        "colab": {
          "base_uri": "https://localhost:8080/"
        },
        "outputId": "0368d3b9-1974-4278-9470-43816b03ea0b"
      },
      "execution_count": 4,
      "outputs": [
        {
          "output_type": "stream",
          "name": "stdout",
          "text": [
            "[1, 4, 9, 16]\n"
          ]
        }
      ]
    },
    {
      "cell_type": "code",
      "source": [
        "# Sort a list of tuples based on the second element\n",
        "tuples_list = [(1, 3), (2, 1), (4, 2)]\n",
        "sorted_tuples = sorted(tuples_list, key=lambda x: x[1])\n",
        "print(sorted_tuples)"
      ],
      "metadata": {
        "id": "XN4i8wrR0rqr"
      },
      "execution_count": null,
      "outputs": []
    },
    {
      "cell_type": "code",
      "source": [
        "# Convert a string to uppercase\n",
        "uppercase = lambda s: s.upper()\n",
        "print(uppercase(\"lambda\"))"
      ],
      "metadata": {
        "id": "GKwa3RxN0x5N"
      },
      "execution_count": null,
      "outputs": []
    },
    {
      "cell_type": "code",
      "source": [
        "# Return whether a number is positive or negative\n",
        "check_sign = lambda x: \"Positive\" if x > 0 else \"Negative\"\n",
        "print(check_sign(-5))"
      ],
      "metadata": {
        "id": "PNTjHmqn00zi"
      },
      "execution_count": null,
      "outputs": []
    },
    {
      "cell_type": "code",
      "source": [
        "# Sort list of dictionaries based on 'age' key\n",
        "people = [{'name': 'John', 'age': 25}, {'name': 'Doe', 'age': 20}]\n",
        "sorted_people = sorted(people, key=lambda p: p['age'])\n",
        "print(sorted_people)"
      ],
      "metadata": {
        "id": "khosFfgn03bX"
      },
      "execution_count": null,
      "outputs": []
    },
    {
      "cell_type": "code",
      "source": [
        "# Sum all elements in a list\n",
        "numbers = [1, 2, 3, 4]\n",
        "sum_numbers = reduce(lambda x, y: x + y, numbers)\n",
        "print(sum_numbers)"
      ],
      "metadata": {
        "id": "nDFGFU0906ub"
      },
      "execution_count": null,
      "outputs": []
    }
  ]
}