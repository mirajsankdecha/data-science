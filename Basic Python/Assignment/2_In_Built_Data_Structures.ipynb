{
  "cells": [
    {
      "cell_type": "markdown",
      "metadata": {
        "id": "It4kvi4RSphx"
      },
      "source": [
        "# Python In-Built Data Structures\n",
        "- strings\n",
        "- list\n",
        "- tuple\n",
        "- set\n",
        "- dictionary"
      ]
    },
    {
      "cell_type": "markdown",
      "metadata": {
        "id": "GNNXgGQ5Sph-"
      },
      "source": [
        "# Strings\n",
        "    - strings in python are the sequence of unicode characters.\n",
        "\n",
        "<img src=\"https://media.giphy.com/media/l0ExwzsCSv0apIjlK/giphy.gif\" width = \"300\" style=\"transform:rotate(-90deg);\">"
      ]
    },
    {
      "cell_type": "code",
      "execution_count": null,
      "metadata": {
        "id": "q6S72-CeSpiA"
      },
      "outputs": [],
      "source": [
        "my_str = \"Welcome to the Course\""
      ]
    },
    {
      "cell_type": "code",
      "execution_count": null,
      "metadata": {
        "id": "nS1zmwNdSpif",
        "colab": {
          "base_uri": "https://localhost:8080/"
        },
        "outputId": "3c4b7824-1b08-48e0-a63b-fea292850d7e"
      },
      "outputs": [
        {
          "output_type": "stream",
          "name": "stdout",
          "text": [
            "Welcome to the Course\n",
            "<class 'str'>\n"
          ]
        }
      ],
      "source": [
        "print(my_str)\n",
        "print(type(my_str))\n",
        "\n"
      ]
    },
    {
      "cell_type": "markdown",
      "metadata": {
        "id": "j7Cn6k20Spij"
      },
      "source": [
        "**Indexing a String**\n",
        "\n",
        "- accessing one character based on the position."
      ]
    },
    {
      "cell_type": "code",
      "source": [
        "print(my_str[0])\n",
        "print(my_str[1])\n",
        "print(my_str[2])\n",
        "print(my_str[3])\n",
        "print(my_str[4])\n",
        "print(my_str[5])\n",
        "print(my_str[6])\n",
        "print(my_str[7])\n",
        "print(my_str[8])\n",
        "print(my_str[9])"
      ],
      "metadata": {
        "colab": {
          "base_uri": "https://localhost:8080/"
        },
        "id": "TVKzMZG2hefI",
        "outputId": "f35711bf-b00a-41ba-aec1-2c10d86ff1de"
      },
      "execution_count": null,
      "outputs": [
        {
          "output_type": "stream",
          "name": "stdout",
          "text": [
            "W\n",
            "e\n",
            "l\n",
            "c\n",
            "o\n",
            "m\n",
            "e\n",
            " \n",
            "t\n",
            "o\n"
          ]
        }
      ]
    },
    {
      "cell_type": "code",
      "execution_count": null,
      "metadata": {
        "id": "h_BfLM3uSpim",
        "outputId": "e8c2dfd2-8498-4965-f423-d6df1a5387c0",
        "colab": {
          "base_uri": "https://localhost:8080/"
        }
      },
      "outputs": [
        {
          "output_type": "stream",
          "name": "stdout",
          "text": [
            "W\n",
            "e\n"
          ]
        }
      ],
      "source": [
        "print(my_str[0])\n",
        "print(my_str[1])"
      ]
    },
    {
      "cell_type": "code",
      "source": [
        "%who"
      ],
      "metadata": {
        "colab": {
          "base_uri": "https://localhost:8080/"
        },
        "id": "XynnxmB70Vjw",
        "outputId": "edc92d82-6437-47ff-ce5b-e5ee2c197c66"
      },
      "execution_count": null,
      "outputs": [
        {
          "output_type": "stream",
          "name": "stdout",
          "text": [
            "my_str\t \n"
          ]
        }
      ]
    },
    {
      "cell_type": "code",
      "source": [
        "%whos"
      ],
      "metadata": {
        "colab": {
          "base_uri": "https://localhost:8080/"
        },
        "id": "FCpDXVURof5y",
        "outputId": "48cff1ac-53a8-462d-f324-745b6f5314a7"
      },
      "execution_count": null,
      "outputs": [
        {
          "output_type": "stream",
          "name": "stdout",
          "text": [
            "Variable   Type    Data/Info\n",
            "----------------------------\n",
            "my_str     str     Welcome to the Course\n"
          ]
        }
      ]
    },
    {
      "cell_type": "code",
      "execution_count": null,
      "metadata": {
        "id": "PHAMbISCSpiq",
        "outputId": "1ed672e0-3a08-44f9-a9c4-2d6fd4dd9bab",
        "colab": {
          "base_uri": "https://localhost:8080/"
        }
      },
      "outputs": [
        {
          "output_type": "stream",
          "name": "stdout",
          "text": [
            "21\n"
          ]
        }
      ],
      "source": [
        "# total number characters in a string\n",
        "print( len(my_str) )"
      ]
    },
    {
      "cell_type": "code",
      "source": [
        "%who"
      ],
      "metadata": {
        "colab": {
          "base_uri": "https://localhost:8080/"
        },
        "id": "TWM3WpiroSDU",
        "outputId": "07727908-d0c8-4b3f-bc01-40fa0d0860d9"
      },
      "execution_count": null,
      "outputs": [
        {
          "output_type": "stream",
          "name": "stdout",
          "text": [
            "Interactive namespace is empty.\n"
          ]
        }
      ]
    },
    {
      "cell_type": "code",
      "execution_count": null,
      "metadata": {
        "id": "yi0gz5cSSpiu",
        "outputId": "44b571f7-15be-4d20-900f-47070cde0d78",
        "colab": {
          "base_uri": "https://localhost:8080/"
        }
      },
      "outputs": [
        {
          "output_type": "stream",
          "name": "stdout",
          "text": [
            "e\n"
          ]
        }
      ],
      "source": [
        "# accessing last element of string\n",
        "print( my_str[len(my_str)  - 1] )"
      ]
    },
    {
      "cell_type": "markdown",
      "metadata": {
        "id": "qE6KiqCKSpiw"
      },
      "source": [
        "**Negative Indexing**\n",
        "\n",
        "- writting `len(my_str)` is optional.\n",
        "\n",
        "- That's how Python give rise to Negative Indexing\n"
      ]
    },
    {
      "cell_type": "code",
      "execution_count": null,
      "metadata": {
        "id": "tyaIN-msSpiy",
        "outputId": "ff72f346-f802-4ca9-fc53-707250b00199"
      },
      "outputs": [
        {
          "name": "stdout",
          "output_type": "stream",
          "text": [
            "e\n",
            "o\n"
          ]
        }
      ],
      "source": [
        "print( my_str[-1] )   # last character\n",
        "print( my_str[-5] )   # 5th last character"
      ]
    },
    {
      "cell_type": "markdown",
      "metadata": {
        "id": "Wq7XXCfSSpiz"
      },
      "source": [
        "### String Slicing\n",
        "- extracting multiple characters from a string (sub string)\n",
        "- Syntax : `str[start_idx : end_idx +1]`"
      ]
    },
    {
      "cell_type": "code",
      "source": [
        "sample=\"SHUBHAM\"\n",
        "print(sample)\n",
        "print(sample[1:7:2])"
      ],
      "metadata": {
        "colab": {
          "base_uri": "https://localhost:8080/"
        },
        "id": "bou11AvJ9coJ",
        "outputId": "ab40b30f-dfae-4141-b7f5-895f2da7fb98"
      },
      "execution_count": null,
      "outputs": [
        {
          "output_type": "stream",
          "name": "stdout",
          "text": [
            "SHUBHAM\n",
            "HBA\n"
          ]
        }
      ]
    },
    {
      "cell_type": "code",
      "source": [],
      "metadata": {
        "id": "04Rg1EDE-Arj"
      },
      "execution_count": null,
      "outputs": []
    },
    {
      "cell_type": "code",
      "execution_count": null,
      "metadata": {
        "id": "FuWMRemVSpi4",
        "outputId": "bad39fcd-29a7-48ad-d135-024302ad2bd4",
        "colab": {
          "base_uri": "https://localhost:8080/"
        }
      },
      "outputs": [
        {
          "output_type": "stream",
          "name": "stdout",
          "text": [
            "lcome\n"
          ]
        }
      ],
      "source": [
        "print( my_str[ 2:7] )"
      ]
    },
    {
      "cell_type": "code",
      "source": [
        "print( my_str)\n",
        "\n",
        "print( my_str[1:4:2] )\n"
      ],
      "metadata": {
        "colab": {
          "base_uri": "https://localhost:8080/"
        },
        "id": "wa1JrGrZ-t7K",
        "outputId": "d14502a9-e33e-4213-8901-3399b155156b"
      },
      "execution_count": null,
      "outputs": [
        {
          "output_type": "stream",
          "name": "stdout",
          "text": [
            "Welcome to the Course\n",
            "ec\n"
          ]
        }
      ]
    },
    {
      "cell_type": "code",
      "execution_count": null,
      "metadata": {
        "id": "4Xl_ydZ8Spi5",
        "outputId": "123ac496-601e-46a5-a535-078b1ff1b080"
      },
      "outputs": [
        {
          "name": "stdout",
          "output_type": "stream",
          "text": [
            "Welcome to the Course\n"
          ]
        }
      ],
      "source": [
        "print( my_str[:] )\n"
      ]
    },
    {
      "cell_type": "code",
      "execution_count": null,
      "metadata": {
        "id": "6fOWp-NWSpi7",
        "outputId": "177306c8-32a8-4e4d-d722-8d08f8fd8722"
      },
      "outputs": [
        {
          "name": "stdout",
          "output_type": "stream",
          "text": [
            "Welcome to the Cours\n"
          ]
        }
      ],
      "source": [
        "# all the characters except last 2\n",
        "print( my_str[:-1] )"
      ]
    },
    {
      "cell_type": "markdown",
      "metadata": {
        "id": "4WxJK23PSpjH"
      },
      "source": [
        "### Important Methods related to strings"
      ]
    },
    {
      "cell_type": "code",
      "execution_count": null,
      "metadata": {
        "id": "20lvH44ISpjI",
        "outputId": "99939b6c-62be-4487-f837-ec29af8b13ce"
      },
      "outputs": [
        {
          "name": "stdout",
          "output_type": "stream",
          "text": [
            "Welcome to the Course\n"
          ]
        }
      ],
      "source": [
        "print(my_str)"
      ]
    },
    {
      "cell_type": "code",
      "execution_count": null,
      "metadata": {
        "id": "IWCMv3CuSpjJ"
      },
      "outputs": [],
      "source": [
        "# my_str."
      ]
    },
    {
      "cell_type": "code",
      "execution_count": null,
      "metadata": {
        "id": "8KVJFi4SSpjK",
        "outputId": "b6063508-c0b4-4377-fa69-57e9f223cb97"
      },
      "outputs": [
        {
          "data": {
            "text/plain": [
              "'welcome to the course'"
            ]
          },
          "execution_count": 13,
          "metadata": {},
          "output_type": "execute_result"
        }
      ],
      "source": [
        "# converts everything in lowercase\n",
        "my_str.lower()"
      ]
    },
    {
      "cell_type": "code",
      "execution_count": null,
      "metadata": {
        "id": "FBXBecJeSpjL",
        "outputId": "76b2d288-2b6a-472f-988d-14e642a9165c"
      },
      "outputs": [
        {
          "data": {
            "text/plain": [
              "'WELCOME TO THE COURSE'"
            ]
          },
          "execution_count": 14,
          "metadata": {},
          "output_type": "execute_result"
        }
      ],
      "source": [
        "# converts everything in uppercase\n",
        "my_str.upper()"
      ]
    },
    {
      "cell_type": "code",
      "execution_count": null,
      "metadata": {
        "id": "qe4wXlhkSpjN",
        "outputId": "62bb31e8-2b7f-4000-e577-cdbad29a103f"
      },
      "outputs": [
        {
          "data": {
            "text/plain": [
              "'Welcome To The Course'"
            ]
          },
          "execution_count": 15,
          "metadata": {},
          "output_type": "execute_result"
        }
      ],
      "source": [
        "# Captial first character of each word\n",
        "my_str.title()"
      ]
    },
    {
      "cell_type": "code",
      "execution_count": null,
      "metadata": {
        "id": "H_FosHV6SpjO",
        "outputId": "83617875-e854-4637-ad66-1d44a1e1adde"
      },
      "outputs": [
        {
          "data": {
            "text/plain": [
              "3"
            ]
          },
          "execution_count": 18,
          "metadata": {},
          "output_type": "execute_result"
        }
      ],
      "source": [
        "# returns the index of first occurence of the word, -1 otherwise\n",
        "my_str.find(\"come\")"
      ]
    },
    {
      "cell_type": "code",
      "execution_count": null,
      "metadata": {
        "id": "lDszQOo3SpjP",
        "outputId": "7d36673e-f6ea-4bad-faba-b83fe4fff3c4"
      },
      "outputs": [
        {
          "data": {
            "text/plain": [
              "['Welcome', 'to', 'the', 'Course']"
            ]
          },
          "execution_count": 19,
          "metadata": {},
          "output_type": "execute_result"
        }
      ],
      "source": [
        "# splits the string with space \" \" and creates a list\n",
        "my_str.split(\" \")"
      ]
    },
    {
      "cell_type": "markdown",
      "metadata": {
        "id": "t6y8LtiZSpjU"
      },
      "source": [
        "### Few Operations on strings"
      ]
    },
    {
      "cell_type": "code",
      "execution_count": null,
      "metadata": {
        "id": "Fe1mO3B8SpjU",
        "outputId": "ccfadfab-e124-45b4-c100-ba7107c1367d"
      },
      "outputs": [
        {
          "data": {
            "text/plain": [
              "'abc pqr'"
            ]
          },
          "execution_count": 21,
          "metadata": {},
          "output_type": "execute_result"
        }
      ],
      "source": [
        "# concatenation 2 of strings\n",
        "\"abc \"+\"pqr\""
      ]
    },
    {
      "cell_type": "code",
      "execution_count": null,
      "metadata": {
        "id": "79lVZ8nmSpjW",
        "outputId": "efef03f1-73b4-4f83-c6fc-d1c75df6cb4e"
      },
      "outputs": [
        {
          "ename": "TypeError",
          "evalue": "can only concatenate str (not \"int\") to str",
          "output_type": "error",
          "traceback": [
            "\u001b[0;31m---------------------------------------------------------------------------\u001b[0m",
            "\u001b[0;31mTypeError\u001b[0m                                 Traceback (most recent call last)",
            "\u001b[0;32m<ipython-input-22-896a9c69fd8a>\u001b[0m in \u001b[0;36m<module>\u001b[0;34m\u001b[0m\n\u001b[1;32m      1\u001b[0m \u001b[0;31m# cannot concatenate other data type\u001b[0m\u001b[0;34m\u001b[0m\u001b[0;34m\u001b[0m\u001b[0;34m\u001b[0m\u001b[0m\n\u001b[0;32m----> 2\u001b[0;31m \u001b[0;34m\"abc\"\u001b[0m \u001b[0;34m+\u001b[0m \u001b[0;36m1\u001b[0m\u001b[0;34m\u001b[0m\u001b[0;34m\u001b[0m\u001b[0m\n\u001b[0m",
            "\u001b[0;31mTypeError\u001b[0m: can only concatenate str (not \"int\") to str"
          ]
        }
      ],
      "source": [
        "# cannot concatenate other data type\n",
        "\"abc\" + 1"
      ]
    },
    {
      "cell_type": "code",
      "execution_count": null,
      "metadata": {
        "id": "juflQfWnSpjY",
        "outputId": "8ee080f7-57b4-432e-b0b9-337aaa231e17"
      },
      "outputs": [
        {
          "data": {
            "text/plain": [
              "'abc 1'"
            ]
          },
          "execution_count": 24,
          "metadata": {},
          "output_type": "execute_result"
        }
      ],
      "source": [
        "# type conversion is the way.\n",
        "\"abc \" + str(1)"
      ]
    },
    {
      "cell_type": "code",
      "execution_count": null,
      "metadata": {
        "id": "tsiyONrySpjZ",
        "outputId": "2893b254-a649-44c6-d9d1-9a8f87b945e7"
      },
      "outputs": [
        {
          "data": {
            "text/plain": [
              "'hellohellohellohello'"
            ]
          },
          "execution_count": 25,
          "metadata": {},
          "output_type": "execute_result"
        }
      ],
      "source": [
        "# Multiplication of string with int n results into repetition string n times.\n",
        "\"hello\"*4"
      ]
    },
    {
      "cell_type": "markdown",
      "metadata": {
        "id": "9hYdUGAoSpj-"
      },
      "source": [
        "# Lists\n",
        "     - ordered/sequence collection of elements\n",
        "     - indexable\n",
        "     - mutable\n",
        "     - can store heterogenous elements\n",
        "<img src=\"https://media.giphy.com/media/10S4rk0J10AKlO/giphy.gif\" width=\"500\">"
      ]
    },
    {
      "cell_type": "code",
      "source": [
        "list1=[1,3,5,6,8]\n",
        "print(list1)"
      ],
      "metadata": {
        "colab": {
          "base_uri": "https://localhost:8080/"
        },
        "id": "kSqIe4R5zYfJ",
        "outputId": "119c8ce7-354e-4bf8-f613-1e4f33eaa4d9"
      },
      "execution_count": null,
      "outputs": [
        {
          "output_type": "stream",
          "name": "stdout",
          "text": [
            "[1, 3, 5, 6, 8]\n"
          ]
        }
      ]
    },
    {
      "cell_type": "code",
      "execution_count": null,
      "metadata": {
        "id": "WISWZbYcSpj_"
      },
      "outputs": [],
      "source": [
        "my_list = [6,3,2,8,4]"
      ]
    },
    {
      "cell_type": "code",
      "execution_count": null,
      "metadata": {
        "id": "yZZ16R96Spj_",
        "outputId": "962df811-f140-408e-d3c9-6a446d23414a",
        "colab": {
          "base_uri": "https://localhost:8080/"
        }
      },
      "outputs": [
        {
          "output_type": "stream",
          "name": "stdout",
          "text": [
            "[6, 3, 2, 8, 4]\n"
          ]
        }
      ],
      "source": [
        "print(my_list)"
      ]
    },
    {
      "cell_type": "code",
      "execution_count": null,
      "metadata": {
        "id": "U5-i69LXSpkA",
        "outputId": "d204da96-56c1-4e51-e49d-875c80515c44",
        "colab": {
          "base_uri": "https://localhost:8080/"
        }
      },
      "outputs": [
        {
          "output_type": "execute_result",
          "data": {
            "text/plain": [
              "list"
            ]
          },
          "metadata": {},
          "execution_count": 12
        }
      ],
      "source": [
        "type(my_list)"
      ]
    },
    {
      "cell_type": "markdown",
      "metadata": {
        "id": "xUpD8aFPSpkA"
      },
      "source": [
        "**Indexing/Slicing of List works same way as Strings**"
      ]
    },
    {
      "cell_type": "code",
      "source": [
        "print(my_list)"
      ],
      "metadata": {
        "colab": {
          "base_uri": "https://localhost:8080/"
        },
        "id": "mNPFSsvf2dy7",
        "outputId": "78c2428d-1653-4fbf-91da-9305afa6dbff"
      },
      "execution_count": null,
      "outputs": [
        {
          "output_type": "stream",
          "name": "stdout",
          "text": [
            "[6, 3, 2, 8, 4]\n"
          ]
        }
      ]
    },
    {
      "cell_type": "code",
      "source": [
        "my_list[1]=99\n",
        "print(my_list)"
      ],
      "metadata": {
        "colab": {
          "base_uri": "https://localhost:8080/"
        },
        "id": "PijxVS0q2mkj",
        "outputId": "587186cd-9718-49fb-ce49-62b383df32e8"
      },
      "execution_count": null,
      "outputs": [
        {
          "output_type": "stream",
          "name": "stdout",
          "text": [
            "[6, 99, 2, 8, 4]\n"
          ]
        }
      ]
    },
    {
      "cell_type": "code",
      "execution_count": null,
      "metadata": {
        "id": "POx7yMg0SpkB",
        "outputId": "d529b488-e5a3-4a3d-c718-24e179ed511c"
      },
      "outputs": [
        {
          "name": "stdout",
          "output_type": "stream",
          "text": [
            "6\n",
            "4\n",
            "[3, 2, 8]\n"
          ]
        }
      ],
      "source": [
        "print( my_list[0] )\n",
        "\n",
        "print( my_list[-1] )\n",
        "\n",
        "print( my_list[1:-1] ) # list slicing"
      ]
    },
    {
      "cell_type": "code",
      "execution_count": null,
      "metadata": {
        "id": "GyFuBM6KSpkB",
        "outputId": "e69e8e66-a410-4fa9-cf63-cda2b14a8e8a"
      },
      "outputs": [
        {
          "name": "stdout",
          "output_type": "stream",
          "text": [
            "[99, 3, 2, 8, 4]\n"
          ]
        }
      ],
      "source": [
        "# because of mutable property\n",
        "my_list[0] = 99\n",
        "\n",
        "print(my_list)"
      ]
    },
    {
      "cell_type": "markdown",
      "metadata": {
        "id": "VaMCcJO4SpkC"
      },
      "source": [
        "### Some important methods for lists"
      ]
    },
    {
      "cell_type": "code",
      "execution_count": null,
      "metadata": {
        "id": "KcW9T8bfSpkC"
      },
      "outputs": [],
      "source": []
    },
    {
      "cell_type": "code",
      "execution_count": null,
      "metadata": {
        "id": "BJZ6qLARSpkC",
        "outputId": "6e5f0227-2038-4d1d-a2c8-4466e7062ab8"
      },
      "outputs": [
        {
          "name": "stdout",
          "output_type": "stream",
          "text": [
            "[99, 3, 2, 8, 4, 33]\n"
          ]
        }
      ],
      "source": [
        "# adds the given element at the end of the list\n",
        "my_list.append(33)\n",
        "\n",
        "print(my_list)"
      ]
    },
    {
      "cell_type": "code",
      "execution_count": null,
      "metadata": {
        "id": "3NxnpRq7SpkD",
        "outputId": "9f3a83c1-798f-48d8-e5f9-cd47263ed312"
      },
      "outputs": [
        {
          "name": "stdout",
          "output_type": "stream",
          "text": [
            "[99, 88, 3, 2, 8, 4, 33]\n"
          ]
        }
      ],
      "source": [
        "# inserts 88 at index 1\n",
        "my_list.insert(1, 88)\n",
        "\n",
        "print(my_list)"
      ]
    },
    {
      "cell_type": "code",
      "execution_count": null,
      "metadata": {
        "id": "PHfLyaECSpkE",
        "outputId": "9ca175c9-8ac5-4c69-d673-87b04e32994d"
      },
      "outputs": [
        {
          "name": "stdout",
          "output_type": "stream",
          "text": [
            "[99, 88, 3, 2, 8, 4]\n"
          ]
        }
      ],
      "source": [
        "# delete the last element.\n",
        "# pop function can also take index if you want to delete specific index.\n",
        "my_list.pop()\n",
        "\n",
        "print(my_list)"
      ]
    },
    {
      "cell_type": "code",
      "execution_count": null,
      "metadata": {
        "id": "hgpOMcN7SpkF",
        "outputId": "01928bec-e21a-4c1a-ec0f-8afbd4056c54",
        "colab": {
          "base_uri": "https://localhost:8080/"
        }
      },
      "outputs": [
        {
          "output_type": "stream",
          "name": "stdout",
          "text": [
            "[4, 8, 2, 3, 6]\n"
          ]
        }
      ],
      "source": [
        "# reverse a list\n",
        "my_list.reverse()\n",
        "\n",
        "print(my_list)"
      ]
    },
    {
      "cell_type": "code",
      "execution_count": null,
      "metadata": {
        "id": "ZwNqo3HNSpkG",
        "outputId": "cff6794c-8b1f-4d12-f777-e38db7609635"
      },
      "outputs": [
        {
          "name": "stdout",
          "output_type": "stream",
          "text": [
            "[2, 3, 4, 8, 88, 99]\n"
          ]
        }
      ],
      "source": [
        "# sorts in ascending order\n",
        "my_list.sort()\n",
        "\n",
        "print(my_list)"
      ]
    },
    {
      "cell_type": "code",
      "execution_count": null,
      "metadata": {
        "id": "cfTjmwuWSpkH",
        "outputId": "5199a9e8-5836-4bdc-b507-c5eee0560554"
      },
      "outputs": [
        {
          "name": "stdout",
          "output_type": "stream",
          "text": [
            "[99, 88, 8, 4, 3, 2]\n"
          ]
        }
      ],
      "source": [
        "# sorts in descending order\n",
        "my_list.sort(reverse=True)\n",
        "\n",
        "print(my_list)"
      ]
    },
    {
      "cell_type": "code",
      "execution_count": null,
      "metadata": {
        "id": "eZyuhRsLSpkI",
        "outputId": "9fb854a3-106e-421f-e415-0e34b4523ce1"
      },
      "outputs": [
        {
          "data": {
            "text/plain": [
              "False"
            ]
          },
          "execution_count": 38,
          "metadata": {},
          "output_type": "execute_result"
        }
      ],
      "source": [
        "# in operator\n",
        "1 in my_list"
      ]
    },
    {
      "cell_type": "code",
      "execution_count": null,
      "metadata": {
        "id": "SC0DBXrDSpkI",
        "outputId": "73c09a4b-52c9-4cb6-9f8e-0a6b27e51f93",
        "colab": {
          "base_uri": "https://localhost:8080/"
        }
      },
      "outputs": [
        {
          "output_type": "stream",
          "name": "stdout",
          "text": [
            "16\n",
            "64\n",
            "4\n",
            "9\n",
            "36\n"
          ]
        }
      ],
      "source": [
        "# iterating over elements of list and taking their squares\n",
        "for ele in my_list:\n",
        "    print(ele**2)"
      ]
    },
    {
      "cell_type": "markdown",
      "metadata": {
        "id": "6wjuMq47SpkM"
      },
      "source": [
        "### List Comprehension"
      ]
    },
    {
      "cell_type": "code",
      "execution_count": null,
      "metadata": {
        "id": "_KDpwivzSpkN",
        "outputId": "fb598020-c1a1-4244-d493-4756aa405ed9",
        "colab": {
          "base_uri": "https://localhost:8080/"
        }
      },
      "outputs": [
        {
          "output_type": "stream",
          "name": "stdout",
          "text": [
            "[4, 8, 2, 3, 6]\n"
          ]
        }
      ],
      "source": [
        "print(my_list)"
      ]
    },
    {
      "cell_type": "code",
      "execution_count": null,
      "metadata": {
        "id": "cRFi-ucvSpkO",
        "outputId": "04c80af4-a498-455a-f2a3-a284085e0b1f",
        "colab": {
          "base_uri": "https://localhost:8080/"
        }
      },
      "outputs": [
        {
          "output_type": "stream",
          "name": "stdout",
          "text": [
            "[16, 64, 4, 9, 36]\n"
          ]
        }
      ],
      "source": [
        "# creating a new list of squares of each element\n",
        "new_list = []\n",
        "\n",
        "for ele in my_list:\n",
        "    new_list.append(ele**2)\n",
        "\n",
        "print(new_list)"
      ]
    },
    {
      "cell_type": "code",
      "execution_count": null,
      "metadata": {
        "id": "-1q83XJWSpkP",
        "outputId": "2bcce4ee-f12a-472b-fd09-3da542350b68",
        "colab": {
          "base_uri": "https://localhost:8080/"
        }
      },
      "outputs": [
        {
          "output_type": "stream",
          "name": "stdout",
          "text": [
            "[16, 64, 4, 9, 36]\n"
          ]
        }
      ],
      "source": [
        "## list comprehension\n",
        "new_list2 = [ele**2 for ele in my_list]\n",
        "\n",
        "print(new_list2)"
      ]
    },
    {
      "cell_type": "code",
      "execution_count": null,
      "metadata": {
        "id": "VUcmt5YzSpkT"
      },
      "outputs": [],
      "source": []
    },
    {
      "cell_type": "code",
      "execution_count": null,
      "metadata": {
        "id": "eCzB2OcPSpkU",
        "outputId": "af9ec850-5afc-4e41-fc3c-df9c1c19fd5f",
        "colab": {
          "base_uri": "https://localhost:8080/"
        }
      },
      "outputs": [
        {
          "output_type": "stream",
          "name": "stdout",
          "text": [
            "[4, True, 98.4, [9, 6, 3], 'Python', 100]\n"
          ]
        }
      ],
      "source": [
        "# e.g of heterogenous list\n",
        "my_list_2 = [4, True, 98.4, [9,6,3], \"Python\", 100]\n",
        "\n",
        "print(my_list_2)"
      ]
    },
    {
      "cell_type": "code",
      "execution_count": null,
      "metadata": {
        "id": "opPSIOjHSpkV",
        "outputId": "003b2a3c-efb6-42fe-b129-3184997bee69",
        "colab": {
          "base_uri": "https://localhost:8080/"
        }
      },
      "outputs": [
        {
          "output_type": "execute_result",
          "data": {
            "text/plain": [
              "6"
            ]
          },
          "metadata": {},
          "execution_count": 27
        }
      ],
      "source": [
        "len(my_list_2)"
      ]
    },
    {
      "cell_type": "code",
      "execution_count": null,
      "metadata": {
        "id": "6hwRzesVSpkW",
        "outputId": "b0066d63-9708-4c2f-d56e-f6e84649922b",
        "colab": {
          "base_uri": "https://localhost:8080/"
        }
      },
      "outputs": [
        {
          "output_type": "stream",
          "name": "stdout",
          "text": [
            "[[1, 2, 3], [4, 5, 6], [7, 8, 9]]\n"
          ]
        }
      ],
      "source": [
        "list_2d = [ [1,2,3], [4,5,6], [7,8, 9] ]\n",
        "\n",
        "print(list_2d)"
      ]
    },
    {
      "cell_type": "code",
      "source": [
        "list_2d[1]=[10,15,16]\n",
        "print(list_2d)"
      ],
      "metadata": {
        "colab": {
          "base_uri": "https://localhost:8080/"
        },
        "id": "_i4SEC-GSHBq",
        "outputId": "8bdb36ce-e277-4d16-87ae-e6244da9672d"
      },
      "execution_count": null,
      "outputs": [
        {
          "output_type": "stream",
          "name": "stdout",
          "text": [
            "[[1, 2, 3], [10, 15, 16], [7, 8, 9]]\n"
          ]
        }
      ]
    },
    {
      "cell_type": "code",
      "source": [
        "print(list_2d[1])"
      ],
      "metadata": {
        "colab": {
          "base_uri": "https://localhost:8080/"
        },
        "id": "JUR6Q50BBqLV",
        "outputId": "ccd2d34c-c480-4526-c04c-d476302ef070"
      },
      "execution_count": null,
      "outputs": [
        {
          "output_type": "stream",
          "name": "stdout",
          "text": [
            "[4, 5, 6]\n"
          ]
        }
      ]
    },
    {
      "cell_type": "code",
      "source": [
        "print(list_2d[1:3])"
      ],
      "metadata": {
        "colab": {
          "base_uri": "https://localhost:8080/"
        },
        "id": "K1whsVXzBs3O",
        "outputId": "5241b266-0c79-4392-8181-fad70ea40fc2"
      },
      "execution_count": null,
      "outputs": [
        {
          "output_type": "stream",
          "name": "stdout",
          "text": [
            "[[4, 5, 6], [7, 8, 9]]\n"
          ]
        }
      ]
    },
    {
      "cell_type": "code",
      "source": [
        "print(list_2d[::1])"
      ],
      "metadata": {
        "colab": {
          "base_uri": "https://localhost:8080/"
        },
        "id": "tYcSXoJtCE23",
        "outputId": "009e7129-2c1f-4155-f551-b4eb5faf9a2b"
      },
      "execution_count": null,
      "outputs": [
        {
          "output_type": "stream",
          "name": "stdout",
          "text": [
            "[[1, 2, 3], [4, 5, 6], [7, 8, 9]]\n"
          ]
        }
      ]
    },
    {
      "cell_type": "code",
      "execution_count": null,
      "metadata": {
        "id": "hm-gXFw9SpkX",
        "outputId": "2a6e935f-02e0-4405-e911-6874939c6435",
        "colab": {
          "base_uri": "https://localhost:8080/"
        }
      },
      "outputs": [
        {
          "output_type": "stream",
          "name": "stdout",
          "text": [
            "[]\n"
          ]
        }
      ],
      "source": [
        "print(list_2d[1:1])"
      ]
    },
    {
      "cell_type": "code",
      "execution_count": null,
      "metadata": {
        "colab": {
          "base_uri": "https://localhost:8080/"
        },
        "id": "KYCLbCKCSpkY",
        "outputId": "7073a77c-3ce7-4804-8be3-a96ee34af314"
      },
      "outputs": [
        {
          "output_type": "stream",
          "name": "stdout",
          "text": [
            "15\n"
          ]
        }
      ],
      "source": [
        "# accessing an element in 2d list\n",
        "print( list_2d[1][1] )"
      ]
    },
    {
      "cell_type": "markdown",
      "metadata": {
        "id": "-Zw1OmnpSpke"
      },
      "source": [
        "# Tuples\n",
        "    - similar to lists (read-only)\n",
        "    - ordered,  collections of items\n",
        "    - indexable\n",
        "    - immutable"
      ]
    },
    {
      "cell_type": "code",
      "execution_count": null,
      "metadata": {
        "id": "GjQoqbV0Spkf"
      },
      "outputs": [],
      "source": [
        "tup = (8, 9 , \"Hello\", 88)"
      ]
    },
    {
      "cell_type": "code",
      "execution_count": null,
      "metadata": {
        "id": "Aaw6S3_LSpkg",
        "outputId": "b9c3c85f-537b-46be-a774-1e025a5a3c73"
      },
      "outputs": [
        {
          "name": "stdout",
          "output_type": "stream",
          "text": [
            "(8, 9, 'Hello', 88)\n"
          ]
        }
      ],
      "source": [
        "print(tup)"
      ]
    },
    {
      "cell_type": "code",
      "execution_count": null,
      "metadata": {
        "id": "jorS7bjeSpkh",
        "outputId": "1bf34f4b-9c49-435a-c061-22b89925ce8c"
      },
      "outputs": [
        {
          "data": {
            "text/plain": [
              "tuple"
            ]
          },
          "execution_count": 5,
          "metadata": {},
          "output_type": "execute_result"
        }
      ],
      "source": [
        "type(tup)"
      ]
    },
    {
      "cell_type": "code",
      "execution_count": null,
      "metadata": {
        "id": "m3fkCDIVSpki",
        "outputId": "68d5d011-d60c-4b45-be10-c7829fec102d"
      },
      "outputs": [
        {
          "name": "stdout",
          "output_type": "stream",
          "text": [
            "8\n",
            "(8, 9, 'Hello')\n"
          ]
        }
      ],
      "source": [
        "print( tup[0] )\n",
        "\n",
        "print( tup[:-1])"
      ]
    },
    {
      "cell_type": "code",
      "execution_count": null,
      "metadata": {
        "id": "IuT0hIuTSpkj",
        "outputId": "caaf817e-5e98-427a-f066-e4c1e485c0f8"
      },
      "outputs": [
        {
          "ename": "TypeError",
          "evalue": "'tuple' object does not support item assignment",
          "output_type": "error",
          "traceback": [
            "\u001b[0;31m---------------------------------------------------------------------------\u001b[0m",
            "\u001b[0;31mTypeError\u001b[0m                                 Traceback (most recent call last)",
            "\u001b[0;32m<ipython-input-7-9a0ebe3147df>\u001b[0m in \u001b[0;36m<module>\u001b[0;34m\u001b[0m\n\u001b[1;32m      1\u001b[0m \u001b[0;31m# But this is not possible because of immutablity\u001b[0m\u001b[0;34m\u001b[0m\u001b[0;34m\u001b[0m\u001b[0;34m\u001b[0m\u001b[0m\n\u001b[0;32m----> 2\u001b[0;31m \u001b[0mtup\u001b[0m\u001b[0;34m[\u001b[0m\u001b[0;36m0\u001b[0m\u001b[0;34m]\u001b[0m \u001b[0;34m=\u001b[0m \u001b[0;36m1\u001b[0m\u001b[0;34m\u001b[0m\u001b[0;34m\u001b[0m\u001b[0m\n\u001b[0m",
            "\u001b[0;31mTypeError\u001b[0m: 'tuple' object does not support item assignment"
          ]
        }
      ],
      "source": [
        "# But this is not possible because of immutablity\n",
        "tup[0] = 1"
      ]
    },
    {
      "cell_type": "code",
      "execution_count": null,
      "metadata": {
        "id": "ajc_Wh0YSpkk",
        "outputId": "926c5af7-d335-4d1a-cb97-010cf05b521c"
      },
      "outputs": [
        {
          "name": "stdout",
          "output_type": "stream",
          "text": [
            "8\n",
            "9\n",
            "Hello\n",
            "88\n"
          ]
        }
      ],
      "source": [
        "for ele in tup:\n",
        "    print(ele)"
      ]
    },
    {
      "cell_type": "markdown",
      "metadata": {
        "id": "ODCxrLybSpku"
      },
      "source": [
        "# Set\n",
        "    - contains only unique elements\n",
        "    - mutable\n",
        "    - unordered\n",
        "    - unindexable"
      ]
    },
    {
      "cell_type": "code",
      "execution_count": null,
      "metadata": {
        "id": "7rlmnme6Spkv"
      },
      "outputs": [],
      "source": [
        "my_set = {9, 7, 7, 1, 8, 9, 7, 5, 1}"
      ]
    },
    {
      "cell_type": "code",
      "execution_count": null,
      "metadata": {
        "id": "RVVmDTLISpkw",
        "outputId": "3280d501-11b6-46a3-d779-5709ee4fa31c",
        "colab": {
          "base_uri": "https://localhost:8080/"
        }
      },
      "outputs": [
        {
          "output_type": "stream",
          "name": "stdout",
          "text": [
            "{1, 5, 7, 8, 9}\n"
          ]
        }
      ],
      "source": [
        "# No duplicate elements\n",
        "print(my_set)"
      ]
    },
    {
      "cell_type": "code",
      "execution_count": null,
      "metadata": {
        "id": "-E6jQEthSpkz",
        "outputId": "c01d4e03-08ef-4b86-9974-c669563252ca",
        "colab": {
          "base_uri": "https://localhost:8080/"
        }
      },
      "outputs": [
        {
          "output_type": "execute_result",
          "data": {
            "text/plain": [
              "set"
            ]
          },
          "metadata": {},
          "execution_count": 11
        }
      ],
      "source": [
        "type(my_set)"
      ]
    },
    {
      "cell_type": "code",
      "execution_count": null,
      "metadata": {
        "id": "RguFA2D3Spk0",
        "outputId": "f09ae067-e474-4622-c42c-37f1eaf19d4f",
        "colab": {
          "base_uri": "https://localhost:8080/"
        }
      },
      "outputs": [
        {
          "output_type": "stream",
          "name": "stdout",
          "text": [
            "{1, 99, 5, 7, 8, 9}\n"
          ]
        }
      ],
      "source": [
        "# No matter how many times you add same element, it will be available only once.\n",
        "my_set.add(99)\n",
        "\n",
        "print(my_set)\n"
      ]
    },
    {
      "cell_type": "code",
      "execution_count": null,
      "metadata": {
        "id": "JtcVMXwXSpk1",
        "outputId": "33cdb594-7fc0-499b-9707-7701e798d990",
        "colab": {
          "base_uri": "https://localhost:8080/"
        }
      },
      "outputs": [
        {
          "output_type": "stream",
          "name": "stdout",
          "text": [
            "{1, 99, 5, 7, 9}\n"
          ]
        }
      ],
      "source": [
        "# remove elements from set\n",
        "my_set.remove(8)\n",
        "\n",
        "print(my_set)"
      ]
    },
    {
      "cell_type": "markdown",
      "metadata": {
        "id": "Wtyy_VoRSpk2"
      },
      "source": [
        "#### Remove Duplicate Numbers from a list"
      ]
    },
    {
      "cell_type": "code",
      "execution_count": null,
      "metadata": {
        "id": "khLa-l5dSpk2"
      },
      "outputs": [],
      "source": [
        "some_list = [6,3,7,6,4,1,0,9,2,1,0,8,6,4,7]"
      ]
    },
    {
      "cell_type": "code",
      "execution_count": null,
      "metadata": {
        "id": "71zrIh6sSpk3",
        "outputId": "998d1428-5561-49fb-c5dc-80b229693486"
      },
      "outputs": [
        {
          "name": "stdout",
          "output_type": "stream",
          "text": [
            "[6, 3, 7, 6, 4, 1, 0, 9, 2, 1, 0, 8, 6, 4, 7]\n"
          ]
        }
      ],
      "source": [
        "print(some_list)"
      ]
    },
    {
      "cell_type": "code",
      "execution_count": null,
      "metadata": {
        "id": "oBBvJVx2Spk3"
      },
      "outputs": [],
      "source": [
        "my_new_set = set(some_list)"
      ]
    },
    {
      "cell_type": "code",
      "execution_count": null,
      "metadata": {
        "id": "DAschBAXSpk4"
      },
      "outputs": [],
      "source": [
        "some_list = list(my_new_set)"
      ]
    },
    {
      "cell_type": "code",
      "execution_count": null,
      "metadata": {
        "id": "jndjRnxvSpk4",
        "outputId": "28cb12c3-7745-438b-970f-558da1ba82dc"
      },
      "outputs": [
        {
          "data": {
            "text/plain": [
              "[0, 1, 2, 3, 4, 6, 7, 8, 9]"
            ]
          },
          "execution_count": 18,
          "metadata": {},
          "output_type": "execute_result"
        }
      ],
      "source": [
        "some_list"
      ]
    },
    {
      "cell_type": "code",
      "execution_count": null,
      "metadata": {
        "id": "Qt1bSB-uSpk5"
      },
      "outputs": [],
      "source": []
    },
    {
      "cell_type": "code",
      "execution_count": null,
      "metadata": {
        "id": "7BvVg8ZTSpk5"
      },
      "outputs": [],
      "source": []
    },
    {
      "cell_type": "code",
      "execution_count": null,
      "metadata": {
        "id": "asZ-WSbOSpk6"
      },
      "outputs": [],
      "source": []
    },
    {
      "cell_type": "code",
      "execution_count": null,
      "metadata": {
        "id": "mNpNdvNLSpk7"
      },
      "outputs": [],
      "source": []
    },
    {
      "cell_type": "code",
      "execution_count": null,
      "metadata": {
        "id": "Axp3a_14Spk8"
      },
      "outputs": [],
      "source": []
    },
    {
      "cell_type": "code",
      "execution_count": null,
      "metadata": {
        "id": "2rtO-gUdSpk8"
      },
      "outputs": [],
      "source": []
    },
    {
      "cell_type": "code",
      "execution_count": null,
      "metadata": {
        "id": "ExUCJ4PlSpk9"
      },
      "outputs": [],
      "source": []
    },
    {
      "cell_type": "code",
      "execution_count": null,
      "metadata": {
        "id": "6_J4tHqbSpk9"
      },
      "outputs": [],
      "source": []
    },
    {
      "cell_type": "code",
      "execution_count": null,
      "metadata": {
        "id": "EAONdIXgSpk-"
      },
      "outputs": [],
      "source": []
    },
    {
      "cell_type": "code",
      "execution_count": null,
      "metadata": {
        "id": "Y4prhA0USpk-"
      },
      "outputs": [],
      "source": []
    },
    {
      "cell_type": "code",
      "execution_count": null,
      "metadata": {
        "id": "oEEtVednSpk-"
      },
      "outputs": [],
      "source": []
    },
    {
      "cell_type": "code",
      "execution_count": null,
      "metadata": {
        "id": "cDsDJMtJSpk_"
      },
      "outputs": [],
      "source": []
    },
    {
      "cell_type": "markdown",
      "metadata": {
        "id": "8H6rP0HDSpk_"
      },
      "source": [
        "# Dictionary\n",
        "     - stores data in key-value pair\n",
        "     - unordered\n",
        "     - unindexable\n",
        "     - access the values, with help of keys\n",
        "      \n",
        "<img src=\"https://media.giphy.com/media/l2Je66zG6mAAZxgqI/giphy.gif\" width=300>     "
      ]
    },
    {
      "cell_type": "code",
      "execution_count": null,
      "metadata": {
        "id": "4lFKgzgzSpk_"
      },
      "outputs": [],
      "source": [
        "user_info = {\n",
        "    \"Sr.No\" : 1,\n",
        "    \"name\": \"Mohit\",\n",
        "    \"age\" : 34,\n",
        "    \"nationality\" : \"Indian\",\n",
        "}"
      ]
    },
    {
      "cell_type": "code",
      "execution_count": null,
      "metadata": {
        "id": "PlpTM68pSplA",
        "outputId": "961d5462-35f8-4384-bf26-9b6ea172058a",
        "colab": {
          "base_uri": "https://localhost:8080/"
        }
      },
      "outputs": [
        {
          "output_type": "stream",
          "name": "stdout",
          "text": [
            "{'Sr.No': 1, 'name': 'Mohit', 'age': 34, 'nationality': 'Indian'}\n"
          ]
        }
      ],
      "source": [
        "print(user_info)"
      ]
    },
    {
      "cell_type": "code",
      "execution_count": null,
      "metadata": {
        "id": "DmhXBU-6SplA",
        "outputId": "2318d9dd-903b-48c1-c92c-acac12d2edfa",
        "colab": {
          "base_uri": "https://localhost:8080/"
        }
      },
      "outputs": [
        {
          "output_type": "execute_result",
          "data": {
            "text/plain": [
              "dict"
            ]
          },
          "metadata": {},
          "execution_count": 9
        }
      ],
      "source": [
        "type(user_info)"
      ]
    },
    {
      "cell_type": "code",
      "execution_count": null,
      "metadata": {
        "id": "UvfJBtCRSplB",
        "outputId": "d04af461-fd33-4222-b4a6-3a71a24d0ad7",
        "colab": {
          "base_uri": "https://localhost:8080/"
        }
      },
      "outputs": [
        {
          "output_type": "stream",
          "name": "stdout",
          "text": [
            "Mohit\n",
            "Mohit\n",
            "Indian\n"
          ]
        }
      ],
      "source": [
        "# accessing elements in dictionary\n",
        "\n",
        "print(user_info['name'])\n",
        "print(user_info[\"name\"])\n",
        "print(user_info['nationality'])"
      ]
    },
    {
      "cell_type": "code",
      "execution_count": null,
      "metadata": {
        "id": "RSchSnQWSplB",
        "outputId": "d77f171e-17de-4c29-ffe7-218103e2ce4a",
        "colab": {
          "base_uri": "https://localhost:8080/",
          "height": 158
        }
      },
      "outputs": [
        {
          "output_type": "error",
          "ename": "KeyError",
          "evalue": "'hobby'",
          "traceback": [
            "\u001b[0;31m---------------------------------------------------------------------------\u001b[0m",
            "\u001b[0;31mKeyError\u001b[0m                                  Traceback (most recent call last)",
            "\u001b[0;32m<ipython-input-11-b5da1c432d1b>\u001b[0m in \u001b[0;36m<cell line: 2>\u001b[0;34m()\u001b[0m\n\u001b[1;32m      1\u001b[0m \u001b[0;31m# unknown key gives error\u001b[0m\u001b[0;34m\u001b[0m\u001b[0;34m\u001b[0m\u001b[0m\n\u001b[0;32m----> 2\u001b[0;31m \u001b[0mprint\u001b[0m\u001b[0;34m(\u001b[0m\u001b[0muser_info\u001b[0m\u001b[0;34m[\u001b[0m\u001b[0;34m'hobby'\u001b[0m\u001b[0;34m]\u001b[0m\u001b[0;34m)\u001b[0m\u001b[0;34m\u001b[0m\u001b[0;34m\u001b[0m\u001b[0m\n\u001b[0m",
            "\u001b[0;31mKeyError\u001b[0m: 'hobby'"
          ]
        }
      ],
      "source": [
        "# unknown key gives error\n",
        "print(user_info['hobby'])"
      ]
    },
    {
      "cell_type": "markdown",
      "metadata": {
        "id": "H-25OmVtSplC"
      },
      "source": [
        "   use  `dic.get()` to avoid error"
      ]
    },
    {
      "cell_type": "code",
      "execution_count": null,
      "metadata": {
        "id": "YDRPmy9GSplC"
      },
      "outputs": [],
      "source": [
        "# no error\n",
        "user_info.get('hobby')"
      ]
    },
    {
      "cell_type": "code",
      "execution_count": null,
      "metadata": {
        "id": "iTjXFAnVSplD"
      },
      "outputs": [],
      "source": [
        "# add data in dictionary\n",
        "user_info['hobby'] = ['Singing', 'Cricket', 'Coding']"
      ]
    },
    {
      "cell_type": "code",
      "execution_count": null,
      "metadata": {
        "id": "mjC8UAzkSplD",
        "outputId": "277cf02a-ab4c-4813-ea57-49aec69b53a5",
        "colab": {
          "base_uri": "https://localhost:8080/"
        }
      },
      "outputs": [
        {
          "output_type": "stream",
          "name": "stdout",
          "text": [
            "{'Sr.No': 1, 'name': 'Mohit', 'age': 34, 'nationality': 'Indian', 'hobby': ['Singing', 'Cricket', 'Coding']}\n"
          ]
        }
      ],
      "source": [
        "print(user_info)"
      ]
    },
    {
      "cell_type": "code",
      "execution_count": null,
      "metadata": {
        "id": "ZVuBS5LpSplD",
        "outputId": "e9c981a3-4a49-43b0-90e1-3405125d2647",
        "colab": {
          "base_uri": "https://localhost:8080/"
        }
      },
      "outputs": [
        {
          "output_type": "execute_result",
          "data": {
            "text/plain": [
              "dict_keys(['Sr.No', 'name', 'age', 'nationality', 'hobby'])"
            ]
          },
          "metadata": {},
          "execution_count": 15
        }
      ],
      "source": [
        "# display all keys\n",
        "user_info.keys()"
      ]
    },
    {
      "cell_type": "code",
      "execution_count": null,
      "metadata": {
        "id": "oea7L92jSplE",
        "outputId": "dee56113-539b-425b-9803-9f5495b8fa26",
        "colab": {
          "base_uri": "https://localhost:8080/"
        }
      },
      "outputs": [
        {
          "output_type": "execute_result",
          "data": {
            "text/plain": [
              "dict_values([1, 'Mohit', 34, 'Indian', ['Singing', 'Cricket', 'Coding']])"
            ]
          },
          "metadata": {},
          "execution_count": 16
        }
      ],
      "source": [
        "# display all values\n",
        "user_info.values()"
      ]
    },
    {
      "cell_type": "code",
      "execution_count": null,
      "metadata": {
        "id": "ZXUqj2cNSplF",
        "outputId": "ca581a3c-e285-4b1b-ad57-226e9faccfbd",
        "colab": {
          "base_uri": "https://localhost:8080/"
        }
      },
      "outputs": [
        {
          "output_type": "execute_result",
          "data": {
            "text/plain": [
              "dict_items([('Sr.No', 1), ('name', 'Mohit'), ('age', 34), ('nationality', 'Indian'), ('hobby', ['Singing', 'Cricket', 'Coding'])])"
            ]
          },
          "metadata": {},
          "execution_count": 17
        }
      ],
      "source": [
        "# display (key, value) pair in tuples\n",
        "user_info.items()"
      ]
    },
    {
      "cell_type": "code",
      "execution_count": null,
      "metadata": {
        "id": "EZ5VPONuSplG",
        "outputId": "fd61c316-16ef-4b6a-9015-66c593af9ed8",
        "colab": {
          "base_uri": "https://localhost:8080/"
        }
      },
      "outputs": [
        {
          "output_type": "stream",
          "name": "stdout",
          "text": [
            "Sr.No  :  1\n",
            "name  :  Mohit\n",
            "age  :  34\n",
            "nationality  :  Indian\n",
            "hobby  :  ['Singing', 'Cricket', 'Coding']\n"
          ]
        }
      ],
      "source": [
        "for i,j in user_info.items():\n",
        "    print(i, \" : \" , j)"
      ]
    },
    {
      "cell_type": "code",
      "execution_count": null,
      "metadata": {
        "id": "T5iblr6ySplG",
        "outputId": "cbd5a1bc-5a94-42d1-f477-3619a91ec50a",
        "colab": {
          "base_uri": "https://localhost:8080/",
          "height": 35
        }
      },
      "outputs": [
        {
          "output_type": "execute_result",
          "data": {
            "text/plain": [
              "'Indian'"
            ],
            "application/vnd.google.colaboratory.intrinsic+json": {
              "type": "string"
            }
          },
          "metadata": {},
          "execution_count": 19
        }
      ],
      "source": [
        "# delete key, value\n",
        "user_info.pop('nationality')"
      ]
    },
    {
      "cell_type": "code",
      "execution_count": null,
      "metadata": {
        "id": "WHV6fRqtSplH",
        "outputId": "ec0b8b25-0a74-4b30-bec2-c0790291a99f",
        "colab": {
          "base_uri": "https://localhost:8080/"
        }
      },
      "outputs": [
        {
          "output_type": "execute_result",
          "data": {
            "text/plain": [
              "{'Sr.No': 1,\n",
              " 'name': 'Mohit',\n",
              " 'age': 34,\n",
              " 'hobby': ['Singing', 'Cricket', 'Coding']}"
            ]
          },
          "metadata": {},
          "execution_count": 20
        }
      ],
      "source": [
        "# nationality has been deleted\n",
        "user_info"
      ]
    },
    {
      "cell_type": "code",
      "execution_count": null,
      "metadata": {
        "id": "e36leeeSSplH"
      },
      "outputs": [],
      "source": [
        "user_info['name'] = \"John Doe\""
      ]
    },
    {
      "cell_type": "code",
      "execution_count": null,
      "metadata": {
        "id": "04o5GMiVSplI",
        "outputId": "3f982d0f-7569-40a6-aa88-66c8579aa524"
      },
      "outputs": [
        {
          "name": "stdout",
          "output_type": "stream",
          "text": [
            "{'name': 'John Doe', 'age': 34, 'hobby': ['Singing', 'Cricket', 'Coding']}\n"
          ]
        }
      ],
      "source": [
        "print(user_info)"
      ]
    },
    {
      "cell_type": "code",
      "execution_count": null,
      "metadata": {
        "id": "732TKT_ySplI",
        "colab": {
          "base_uri": "https://localhost:8080/"
        },
        "outputId": "f87eddc2-9dd6-4613-ca28-86ee15e8aa37"
      },
      "outputs": [
        {
          "output_type": "stream",
          "name": "stdout",
          "text": [
            "{'Sr.No': 1, 'name': 'Kapil', 'age': 34, 'nationality': 'Indian'}\n"
          ]
        }
      ],
      "source": [
        "user_info['name'] = \"Kapil\"\n",
        "print(user_info)"
      ]
    },
    {
      "cell_type": "code",
      "execution_count": null,
      "metadata": {
        "id": "ZTVn9uloSplJ",
        "colab": {
          "base_uri": "https://localhost:8080/"
        },
        "outputId": "1a4142a5-efdf-4817-be50-b7272edab57b"
      },
      "outputs": [
        {
          "output_type": "stream",
          "name": "stdout",
          "text": [
            "{'Sr.No': 1, 'name': 'John Doe', 'age': 34, 'hobby': ['Singing', 'Cricket', 'Coding']}\n",
            "Age Key is available\n"
          ]
        }
      ],
      "source": [
        "#check key is available in the dictionary or not\n",
        "print(user_info)\n",
        "\n",
        "if \"age\" in user_info:\n",
        "  print(\"Age Key is available\")\n"
      ]
    },
    {
      "cell_type": "code",
      "source": [
        " # copy dict into another dict\n",
        "user1_copy = user_info.copy()\n",
        "print(user1_copy)"
      ],
      "metadata": {
        "colab": {
          "base_uri": "https://localhost:8080/"
        },
        "id": "Efd_Qm2yy8mz",
        "outputId": "9bd25078-0d96-4558-887b-6ade180cd995"
      },
      "execution_count": null,
      "outputs": [
        {
          "output_type": "stream",
          "name": "stdout",
          "text": [
            "{'Sr.No': 1, 'name': 'John Doe', 'age': 34, 'hobby': ['Singing', 'Cricket', 'Coding']}\n"
          ]
        }
      ]
    },
    {
      "cell_type": "code",
      "source": [
        "#Merge dict\n",
        "dict1 = {\"city\": \"India\", \"email\": \"alice@example.com\"}\n",
        "print(dict1)\n",
        "user_info.update(dict1)\n",
        "print(user_info)"
      ],
      "metadata": {
        "id": "8ERek5ituDDh",
        "colab": {
          "base_uri": "https://localhost:8080/"
        },
        "outputId": "db41ac1f-ae92-430b-965e-bf6f51172a4b"
      },
      "execution_count": null,
      "outputs": [
        {
          "output_type": "stream",
          "name": "stdout",
          "text": [
            "{'city': 'India', 'email': 'alice@example.com'}\n",
            "{'Sr.No': 1, 'name': 'John Doe', 'age': 34, 'hobby': ['Singing', 'Cricket', 'Coding'], 'city': 'India', 'email': 'alice@example.com'}\n"
          ]
        }
      ]
    },
    {
      "cell_type": "code",
      "execution_count": null,
      "metadata": {
        "id": "O5Eor0Q5SplJ",
        "colab": {
          "base_uri": "https://localhost:8080/"
        },
        "outputId": "f7f6dd65-78b9-49bd-ebb6-cfbacf6df285"
      },
      "outputs": [
        {
          "output_type": "stream",
          "name": "stdout",
          "text": [
            "{'name': 'Alice', 'age': 30, 'city': 'New York'}\n"
          ]
        }
      ],
      "source": [
        "#Create a dictionary from two lists, one for keys and one for values.\n",
        "keys = [\"name\", \"age\", \"city\"]\n",
        "values = [\"Nayan\", 30, \"New York\"]\n",
        "person = dict(zip(keys, values))\n",
        "print(person)"
      ]
    },
    {
      "cell_type": "code",
      "source": [
        "  person = {\n",
        "       \"name\": \"Alice\",\n",
        "       \"age\": 30,\n",
        "       \"contacts\": {\n",
        "           \"email\": \"alice@example.com\",\n",
        "           \"phone\": \"123-456-7890\"\n",
        "       }\n",
        "   }\n",
        "   print(person)"
      ],
      "metadata": {
        "id": "EN2C0aQ5uOld"
      },
      "execution_count": null,
      "outputs": []
    },
    {
      "cell_type": "code",
      "execution_count": null,
      "metadata": {
        "id": "Z2XXry3lSplJ",
        "colab": {
          "base_uri": "https://localhost:8080/"
        },
        "outputId": "3e965471-3c26-44ff-9ecf-360dea33de31"
      },
      "outputs": [
        {
          "output_type": "stream",
          "name": "stdout",
          "text": [
            "{1: 1, 2: 4, 3: 9, 4: 16, 5: 25}\n"
          ]
        }
      ],
      "source": [
        "#Dictionary Comprehension\n",
        " #  *Task*: Create a dictionary using dictionary comprehension.\n",
        "squares = {x: x*x for x in range(1, 6)}\n",
        "print(squares)"
      ]
    },
    {
      "cell_type": "code",
      "source": [
        "# Clear all elements from a dictionary.\n",
        "person = {\"name\": \"Alice\", \"age\": 30, \"city\": \"New York\"}\n",
        "   person.clear()\n",
        "   print(person)  # Output: {}"
      ],
      "metadata": {
        "id": "7UXS_SLCuX60"
      },
      "execution_count": null,
      "outputs": []
    },
    {
      "cell_type": "code",
      "source": [
        "#Count Frequency of Elements in a list using a dictionary.\n",
        "   numbers = [1, 2, 2, 3, 3, 3, 4, 4, 4, 4]\n",
        "   frequency = {}\n",
        "   for num in numbers:\n",
        "       frequency[num] = frequency.get(num, 0) + 1\n",
        "   print(frequency)\n"
      ],
      "metadata": {
        "id": "oqy8oY5GvXPR"
      },
      "execution_count": null,
      "outputs": []
    },
    {
      "cell_type": "markdown",
      "metadata": {
        "id": "T7b7KQ4sSplK"
      },
      "source": [
        "# Challenges :"
      ]
    },
    {
      "cell_type": "markdown",
      "metadata": {
        "id": "1Tn8TJZgSplK"
      },
      "source": [
        "**Challenge 1 :** Write a Program to check if a string is Palindrome\n",
        "\n",
        "---\n",
        "\n",
        "\n",
        "\n",
        "**Challenge 2 :** Write a Program to reverse a string _(without using any function)_"
      ]
    },
    {
      "cell_type": "markdown",
      "metadata": {
        "id": "Al3Sot82SplL"
      },
      "source": [
        "**Challenge 1 :** Find the minimum/maximum element in a given list\n",
        "\n",
        "**Challenge 2 :** Extend the Challenge 1, to find second largest element in a given list.\n",
        "\n",
        "**Challenge 3 :** Write a Program to remove duplicate elements from a given list.\n",
        "\n"
      ]
    },
    {
      "cell_type": "code",
      "execution_count": null,
      "metadata": {
        "id": "D81KdIT-SplM"
      },
      "outputs": [],
      "source": []
    },
    {
      "cell_type": "markdown",
      "metadata": {
        "id": "bc2EyqRhSplN"
      },
      "source": [
        "**Challenge 1 :** Given a dictionary, reverse that dictionary keys should become values and values will be keys. _(Provided keys and vlaues are immutable)_\n",
        "\n",
        "**Challenge 2 :** Given a list like `['Apple', 'Mango', 'Apple','Banana','Grapes, 'Mango','Apple']` find which is the most frequest element"
      ]
    },
    {
      "cell_type": "code",
      "execution_count": null,
      "metadata": {
        "id": "i72Kd8mDSplN"
      },
      "outputs": [],
      "source": []
    }
  ],
  "metadata": {
    "kernelspec": {
      "display_name": "Python 3",
      "language": "python",
      "name": "python3"
    },
    "language_info": {
      "codemirror_mode": {
        "name": "ipython",
        "version": 3
      },
      "file_extension": ".py",
      "mimetype": "text/x-python",
      "name": "python",
      "nbconvert_exporter": "python",
      "pygments_lexer": "ipython3",
      "version": "3.8.5"
    },
    "colab": {
      "provenance": []
    }
  },
  "nbformat": 4,
  "nbformat_minor": 0
}