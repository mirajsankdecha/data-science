{
  "cells": [
    {
      "cell_type": "markdown",
      "metadata": {
        "id": "atZG1kii6__-"
      },
      "source": [
        "# Functions\n",
        "    - helps to achieve reusability of code, avoid repetition of code.\n",
        "    - more organized and modular code\n",
        "    \n",
        "\n",
        "- **Built-In Functions**\n",
        "\n",
        "- **User-Defined Functions**\n",
        "\n",
        "\n",
        "<br>\n",
        "\n",
        "**Syntax :**\n",
        "\n",
        "<pre>\n",
        "def func_name(params):\n",
        "\n",
        "    statements...\n",
        "\n",
        "</pre>\n",
        "\n",
        "<img src=\"https://media.giphy.com/media/XdORe0Wi4E1CuXP2Nm/giphy.gif\" width=\"400\">"
      ]
    },
    {
      "cell_type": "code",
      "execution_count": null,
      "metadata": {
        "id": "78pUaAI67AAE"
      },
      "outputs": [],
      "source": [
        "# function definition\n",
        "\n",
        "def greetings(name):\n",
        "    print(\"Good Morning\", name)"
      ]
    },
    {
      "cell_type": "code",
      "execution_count": null,
      "metadata": {
        "id": "BujrCM167AAH",
        "outputId": "36f6bda2-8baa-4761-df9f-9b0be9f05601"
      },
      "outputs": [
        {
          "name": "stdout",
          "output_type": "stream",
          "text": [
            "<function greetings at 0x10b8d61f0>\n",
            "<class 'function'>\n"
          ]
        }
      ],
      "source": [
        "print(greetings)\n",
        "\n",
        "print( type(greetings) )"
      ]
    },
    {
      "cell_type": "code",
      "execution_count": null,
      "metadata": {
        "id": "PiT6I-rA7AAI",
        "outputId": "f71dbc37-9a43-4128-be29-9c398f3ee4a3"
      },
      "outputs": [
        {
          "name": "stdout",
          "output_type": "stream",
          "text": [
            "Good Morning Mohit\n"
          ]
        }
      ],
      "source": [
        "# function calling\n",
        "greetings(\"Mohit\")"
      ]
    },
    {
      "cell_type": "code",
      "execution_count": null,
      "metadata": {
        "id": "NO7x2bPz7AAJ",
        "outputId": "f9e009f8-d7b5-4ce8-9652-6ae5506e9a8f"
      },
      "outputs": [
        {
          "name": "stdout",
          "output_type": "stream",
          "text": [
            "Good Morning Prateek\n"
          ]
        }
      ],
      "source": [
        "greetings(\"Prateek\")"
      ]
    },
    {
      "cell_type": "code",
      "execution_count": null,
      "metadata": {
        "id": "GF0-Jvbv7AAK"
      },
      "outputs": [],
      "source": [
        "def add(a, b):\n",
        "    \"\"\"\n",
        "    this is a doc string.\n",
        "\n",
        "    return sum of 2 numbers\n",
        "    \"\"\"\n",
        "    return (a+b)"
      ]
    },
    {
      "cell_type": "code",
      "execution_count": null,
      "metadata": {
        "id": "psZHv-F67AAL",
        "outputId": "4df7942a-7fea-4e5c-8f3f-2491e09a86c5"
      },
      "outputs": [
        {
          "data": {
            "text/plain": [
              "8"
            ]
          },
          "execution_count": 6,
          "metadata": {},
          "output_type": "execute_result"
        }
      ],
      "source": [
        "# it is not printing, it's a return value\n",
        "add(5, 3)"
      ]
    },
    {
      "cell_type": "code",
      "execution_count": null,
      "metadata": {
        "id": "ebM8V3ti7AAL",
        "outputId": "c263704c-ae5e-449c-b018-edd4164b3c0f"
      },
      "outputs": [
        {
          "name": "stdout",
          "output_type": "stream",
          "text": [
            "10\n"
          ]
        }
      ],
      "source": [
        "# you can receive return value into a variable\n",
        "\n",
        "c = add(5,5)\n",
        "\n",
        "print(c)"
      ]
    },
    {
      "cell_type": "code",
      "source": [
        "def add(arg2,arg1):\n",
        "  arg2=arg1\n",
        "\n",
        "  c=arg1+arg2-arg1\n",
        "\n",
        "  return c"
      ],
      "metadata": {
        "id": "kLXJZGswjG3B"
      },
      "execution_count": null,
      "outputs": []
    },
    {
      "cell_type": "code",
      "source": [
        "add(13,7)"
      ],
      "metadata": {
        "colab": {
          "base_uri": "https://localhost:8080/"
        },
        "id": "0KbDNTF3jXkG",
        "outputId": "7b8bdf41-560e-48e2-cb6f-5bef134f6dd1"
      },
      "execution_count": null,
      "outputs": [
        {
          "output_type": "execute_result",
          "data": {
            "text/plain": [
              "7"
            ]
          },
          "metadata": {},
          "execution_count": 15
        }
      ]
    },
    {
      "cell_type": "code",
      "source": [
        "def add(arg1,arg2):\n",
        "  c=arg1+arg2-arg1\n",
        "  return c\n",
        "add(13,7)"
      ],
      "metadata": {
        "colab": {
          "base_uri": "https://localhost:8080/"
        },
        "id": "Ln_jaC_MkSYV",
        "outputId": "46a18f34-a836-455e-c822-64bdeb312a7a"
      },
      "execution_count": null,
      "outputs": [
        {
          "output_type": "execute_result",
          "data": {
            "text/plain": [
              "7"
            ]
          },
          "metadata": {},
          "execution_count": 13
        }
      ]
    },
    {
      "cell_type": "code",
      "source": [
        "add(25,90)"
      ],
      "metadata": {
        "colab": {
          "base_uri": "https://localhost:8080/"
        },
        "id": "ni1OCgyAj4nu",
        "outputId": "bb66f10b-f6eb-4af6-e175-4deb257ba8d0"
      },
      "execution_count": null,
      "outputs": [
        {
          "output_type": "execute_result",
          "data": {
            "text/plain": [
              "115"
            ]
          },
          "metadata": {},
          "execution_count": 6
        }
      ]
    },
    {
      "cell_type": "code",
      "execution_count": null,
      "metadata": {
        "id": "fPRTCJ9G7AAM",
        "colab": {
          "base_uri": "https://localhost:8080/"
        },
        "outputId": "f1d5f772-30f8-4694-8823-8edb2914a8b3"
      },
      "outputs": [
        {
          "output_type": "execute_result",
          "data": {
            "text/plain": [
              "120"
            ]
          },
          "metadata": {},
          "execution_count": 19
        }
      ],
      "source": [
        "def product():\n",
        "    lst=[2,5,3,1,4]\n",
        "    s = 1\n",
        "    for i in lst:\n",
        "        s= s*i\n",
        "    return s\n",
        "product() #function Calling"
      ]
    },
    {
      "cell_type": "code",
      "execution_count": null,
      "metadata": {
        "id": "FbfesX0w7AAN",
        "outputId": "87998c37-994d-4137-8d23-4e3f621934b6",
        "colab": {
          "base_uri": "https://localhost:8080/"
        }
      },
      "outputs": [
        {
          "output_type": "stream",
          "name": "stdout",
          "text": [
            "Product of the whole list 120\n"
          ]
        }
      ],
      "source": [
        "res = product( [2,5,3,1,4] )\n",
        "print(\"Product of the whole list\", res)"
      ]
    },
    {
      "cell_type": "markdown",
      "metadata": {
        "id": "KUtB0rpe7AAO"
      },
      "source": [
        "**Note : Function can return multiple values in form of a tuple**"
      ]
    },
    {
      "cell_type": "code",
      "execution_count": null,
      "metadata": {
        "id": "FfnwOsOm7AAO",
        "colab": {
          "base_uri": "https://localhost:8080/"
        },
        "outputId": "04dce3ae-447b-4288-9f89-cb3d580770e5"
      },
      "outputs": [
        {
          "output_type": "stream",
          "name": "stdout",
          "text": [
            "(10, 2, 24, 1.5, -2)\n"
          ]
        }
      ],
      "source": [
        "def calculator(a, b):\n",
        "    return (a+b, a-b, a*b, a/b, b-a)\n",
        "cal_res = calculator(6, 4)\n",
        "print(cal_res)\n"
      ]
    },
    {
      "cell_type": "code",
      "execution_count": null,
      "metadata": {
        "id": "Jga1b_Ol7AAO"
      },
      "outputs": [],
      "source": []
    },
    {
      "cell_type": "markdown",
      "metadata": {
        "id": "xL9Ro4wj7AAP"
      },
      "source": []
    },
    {
      "cell_type": "code",
      "execution_count": null,
      "metadata": {
        "id": "aTff373G7AAP",
        "outputId": "418a77f3-88a9-4dda-ea23-962498f553bc",
        "colab": {
          "base_uri": "https://localhost:8080/"
        }
      },
      "outputs": [
        {
          "output_type": "stream",
          "name": "stdout",
          "text": [
            "(10, 2, 24, 1.5)\n"
          ]
        }
      ],
      "source": [
        "print(cal_res)"
      ]
    },
    {
      "cell_type": "markdown",
      "metadata": {
        "id": "rxJ8fztr7AAQ"
      },
      "source": [
        "## Function Arguments\n",
        "\n",
        "   - **Arguments Vs. Parameters**\n",
        "   \n",
        "    \n",
        "    - default arguments\n",
        "    - arbitary arguments (args)\n",
        "    - keyword arguments (kwargs)\n",
        "     "
      ]
    },
    {
      "cell_type": "markdown",
      "metadata": {
        "id": "YS2Ld8Ns7AAR"
      },
      "source": [
        "**default parameters :** parameters that have some default values. They're optional parameters."
      ]
    },
    {
      "cell_type": "code",
      "execution_count": null,
      "metadata": {
        "id": "Ks-n_jgz7AAR"
      },
      "outputs": [],
      "source": [
        "def intro(name, nationality=\"Indian\"):\n",
        "    print(\"Hello\", name)\n",
        "    print(\"I'm\", nationality)"
      ]
    },
    {
      "cell_type": "code",
      "execution_count": null,
      "metadata": {
        "id": "s3Rfq_RG7AAS",
        "outputId": "f0782c98-4b31-4daf-f1a0-44d5b395db07"
      },
      "outputs": [
        {
          "name": "stdout",
          "output_type": "stream",
          "text": [
            "Hello Mohit\n",
            "I'm Indian\n"
          ]
        }
      ],
      "source": [
        "# without giving nationality it still works\n",
        "intro('Mohit')"
      ]
    },
    {
      "cell_type": "code",
      "execution_count": null,
      "metadata": {
        "id": "dBDP6PDE7AAS",
        "outputId": "a71f9333-50b0-4fc5-aff9-067ee737b539"
      },
      "outputs": [
        {
          "name": "stdout",
          "output_type": "stream",
          "text": [
            "Hello John\n",
            "I'm American\n"
          ]
        }
      ],
      "source": [
        "# default nationality has been changed to American\n",
        "intro(\"John\", \"American\")"
      ]
    },
    {
      "cell_type": "markdown",
      "metadata": {
        "id": "jqJYZ08I7AAV"
      },
      "source": [
        "**arbitary arguments :** it can receive, any number of arguments"
      ]
    },
    {
      "cell_type": "code",
      "execution_count": 7,
      "metadata": {
        "id": "BhAMYiFY7AAW",
        "colab": {
          "base_uri": "https://localhost:8080/"
        },
        "outputId": "d748f05a-2bf7-47c0-c61c-c6b18dfd89fd"
      },
      "outputs": [
        {
          "output_type": "stream",
          "name": "stdout",
          "text": [
            "(10, 8, 3, 2, 5, 1, 56, 78)\n",
            "<class 'tuple'>\n",
            "100\n",
            "64\n",
            "9\n",
            "4\n",
            "25\n",
            "1\n",
            "3136\n",
            "6084\n"
          ]
        }
      ],
      "source": [
        "def random_func(*args): #function def\n",
        "    print(args)\n",
        "    print(type(args))\n",
        "    for i in args:\n",
        "        print(i**2)\n",
        "random_func(10, 8, 3, 2, 5, 1,56,78) #function Calling"
      ]
    },
    {
      "cell_type": "code",
      "source": [
        "def random_func(*args):\n",
        "    print(args)\n",
        "    print(type(args))\n",
        "    for i in args:\n",
        "        print(i**2)"
      ],
      "metadata": {
        "id": "w9UPr4YB3AUW"
      },
      "execution_count": 1,
      "outputs": []
    },
    {
      "cell_type": "code",
      "execution_count": 2,
      "metadata": {
        "id": "3lsG4rA07AAW",
        "outputId": "9e736b1c-2329-419f-8616-47e121c9381b",
        "colab": {
          "base_uri": "https://localhost:8080/"
        }
      },
      "outputs": [
        {
          "output_type": "stream",
          "name": "stdout",
          "text": [
            "(10, 8, 3, 2, 5, 1)\n",
            "<class 'tuple'>\n"
          ]
        }
      ],
      "source": [
        "random_func(10, 8, 3, 2, 5, 1)"
      ]
    },
    {
      "cell_type": "markdown",
      "metadata": {
        "id": "XpxVUhad7AAW"
      },
      "source": [
        "**keyword arguments :** it also takes any any number of arguments and stores in form of dictionary.\n",
        "parameter name is mandatory while calling function"
      ]
    },
    {
      "cell_type": "code",
      "execution_count": 8,
      "metadata": {
        "id": "SiOEFh-m7AAX",
        "colab": {
          "base_uri": "https://localhost:8080/"
        },
        "outputId": "08767b14-d465-49cd-9a85-0d531e2eaea8"
      },
      "outputs": [
        {
          "output_type": "stream",
          "name": "stdout",
          "text": [
            "{'name': 'Mohit', 'age': 24, 'hobby': ['singing', 'coding'], 'nationality': 'Indian'}\n",
            "<class 'dict'>\n"
          ]
        }
      ],
      "source": [
        "def introduction(**kwargs):\n",
        "    print(kwargs)\n",
        "    print(type(kwargs))\n",
        "introduction(name=\"Mohit\", age=24, hobby=[\"singing\", 'coding'], nationality = 'Indian')#calling"
      ]
    },
    {
      "cell_type": "code",
      "source": [
        "def introduction(**kwargs):\n",
        "    print(kwargs)\n",
        "    print(type(kwargs))\n",
        "\n",
        "    for k,v in kwargs.items():\n",
        "        print(k, \":\", v)\n",
        "introduction(name=\"Mohit\", age=24, hobby=[\"singing\", 'coding'], nationality = 'Indian')#calling"
      ],
      "metadata": {
        "colab": {
          "base_uri": "https://localhost:8080/"
        },
        "id": "thOvngNk5gTQ",
        "outputId": "dfc3c442-3e0a-4631-a840-752ba7b6f77c"
      },
      "execution_count": 9,
      "outputs": [
        {
          "output_type": "stream",
          "name": "stdout",
          "text": [
            "{'name': 'Mohit', 'age': 24, 'hobby': ['singing', 'coding'], 'nationality': 'Indian'}\n",
            "<class 'dict'>\n",
            "name : Mohit\n",
            "age : 24\n",
            "hobby : ['singing', 'coding']\n",
            "nationality : Indian\n"
          ]
        }
      ]
    },
    {
      "cell_type": "code",
      "execution_count": 10,
      "metadata": {
        "id": "LaSwlgS37AAX",
        "outputId": "e6cc6da7-4e59-4028-f436-817d38b768cc",
        "colab": {
          "base_uri": "https://localhost:8080/"
        }
      },
      "outputs": [
        {
          "output_type": "stream",
          "name": "stdout",
          "text": [
            "{'name': 'Prateek', 'age': 27, 'company': 'Google'}\n",
            "<class 'dict'>\n",
            "name : Prateek\n",
            "age : 27\n",
            "company : Google\n"
          ]
        }
      ],
      "source": [
        "introduction(name=\"Prateek\", age=27, company =\"Google\") #Function calling"
      ]
    },
    {
      "cell_type": "markdown",
      "metadata": {
        "id": "_dN7sgpF7AAz"
      },
      "source": [
        "# Built-Ins Functions\n",
        "- `print()`\n",
        "- `abs()`\n",
        "- `round()`\n",
        "- Aggregation functions : `sum(), max(), min()`\n",
        "- `filter()`\n",
        "- `map()`"
      ]
    },
    {
      "cell_type": "code",
      "execution_count": null,
      "metadata": {
        "id": "NZt7O5bh7AA0",
        "outputId": "2fc599f7-a53c-4f05-968e-1eea99d9d9ce"
      },
      "outputs": [
        {
          "data": {
            "text/plain": [
              "1.2"
            ]
          },
          "execution_count": 44,
          "metadata": {},
          "output_type": "execute_result"
        }
      ],
      "source": [
        "abs(-1.2)"
      ]
    },
    {
      "cell_type": "code",
      "execution_count": 12,
      "metadata": {
        "id": "-FfgoJZ27AA0",
        "outputId": "16e78199-4367-42a2-9f9a-614a2c8e8583",
        "colab": {
          "base_uri": "https://localhost:8080/"
        }
      },
      "outputs": [
        {
          "output_type": "execute_result",
          "data": {
            "text/plain": [
              "5.7"
            ]
          },
          "metadata": {},
          "execution_count": 12
        }
      ],
      "source": [
        "round(5.67877, 1)"
      ]
    },
    {
      "cell_type": "code",
      "execution_count": 13,
      "metadata": {
        "id": "CcjHqv7c7AA1"
      },
      "outputs": [],
      "source": [
        "lst = [3,2,1,5,4,8,6]"
      ]
    },
    {
      "cell_type": "code",
      "execution_count": 14,
      "metadata": {
        "id": "UEvaxm_e7AA1",
        "outputId": "60da9244-1755-42f1-ea87-34a65f496e73",
        "colab": {
          "base_uri": "https://localhost:8080/"
        }
      },
      "outputs": [
        {
          "output_type": "execute_result",
          "data": {
            "text/plain": [
              "29"
            ]
          },
          "metadata": {},
          "execution_count": 14
        }
      ],
      "source": [
        "sum(lst)"
      ]
    },
    {
      "cell_type": "code",
      "execution_count": 15,
      "metadata": {
        "id": "yCzcbhqb7AA1",
        "outputId": "6ac6f7ab-0dc7-4162-aabf-ebdbc842ae02",
        "colab": {
          "base_uri": "https://localhost:8080/"
        }
      },
      "outputs": [
        {
          "output_type": "execute_result",
          "data": {
            "text/plain": [
              "8"
            ]
          },
          "metadata": {},
          "execution_count": 15
        }
      ],
      "source": [
        "max(lst)"
      ]
    },
    {
      "cell_type": "code",
      "execution_count": 16,
      "metadata": {
        "id": "tnQsD8247AA2",
        "outputId": "d780355c-b893-47d9-d98a-2e94591835be",
        "colab": {
          "base_uri": "https://localhost:8080/"
        }
      },
      "outputs": [
        {
          "output_type": "execute_result",
          "data": {
            "text/plain": [
              "1"
            ]
          },
          "metadata": {},
          "execution_count": 16
        }
      ],
      "source": [
        "min(lst)"
      ]
    },
    {
      "cell_type": "markdown",
      "metadata": {
        "id": "A0He0pid7AA3"
      },
      "source": [
        "**Map**"
      ]
    },
    {
      "cell_type": "code",
      "execution_count": 21,
      "metadata": {
        "id": "XK8MvV8Q7AA3"
      },
      "outputs": [],
      "source": [
        "def add_one(x):\n",
        "    return x+1"
      ]
    },
    {
      "cell_type": "code",
      "execution_count": 22,
      "metadata": {
        "id": "jlaP5Sg37AA4",
        "outputId": "5d520683-cbdc-4b63-bfc5-d294ee165623",
        "colab": {
          "base_uri": "https://localhost:8080/"
        }
      },
      "outputs": [
        {
          "output_type": "execute_result",
          "data": {
            "text/plain": [
              "201"
            ]
          },
          "metadata": {},
          "execution_count": 22
        }
      ],
      "source": [
        "add_one(200) #calling"
      ]
    },
    {
      "cell_type": "code",
      "execution_count": 23,
      "metadata": {
        "id": "T2JHu5tJ7AA4",
        "outputId": "af7c1ec7-2800-4e40-eaf4-dca2ab1317f2",
        "colab": {
          "base_uri": "https://localhost:8080/"
        }
      },
      "outputs": [
        {
          "output_type": "stream",
          "name": "stdout",
          "text": [
            "[3, 2, 1, 5, 4, 8, 6]\n"
          ]
        }
      ],
      "source": [
        "print(lst)"
      ]
    },
    {
      "cell_type": "code",
      "execution_count": 25,
      "metadata": {
        "id": "iGsI8Bw_7AA5",
        "outputId": "29c56d44-9d55-42ba-86ec-bfcdced8f28d",
        "colab": {
          "base_uri": "https://localhost:8080/"
        }
      },
      "outputs": [
        {
          "output_type": "stream",
          "name": "stdout",
          "text": [
            "[4, 3, 2, 6, 5, 9, 7]\n"
          ]
        }
      ],
      "source": [
        "new_lst = []\n",
        "\n",
        "for i in lst:\n",
        "    new_lst.append(i+1)\n",
        "\n",
        "print(new_lst)"
      ]
    },
    {
      "cell_type": "code",
      "execution_count": 26,
      "metadata": {
        "id": "inAG5Rrj7AA5",
        "outputId": "c77bb878-542b-4587-e5e6-f4f216e3f5e3",
        "colab": {
          "base_uri": "https://localhost:8080/"
        }
      },
      "outputs": [
        {
          "output_type": "stream",
          "name": "stdout",
          "text": [
            "<map object at 0x7b699028ab00>\n"
          ]
        }
      ],
      "source": [
        "map_ele = map(add_one, lst)\n",
        "\n",
        "print(map_ele)"
      ]
    },
    {
      "cell_type": "code",
      "execution_count": null,
      "metadata": {
        "id": "cXUOXmka7AA5",
        "outputId": "d0b375ad-e10f-44c0-e569-da9b871918f2"
      },
      "outputs": [
        {
          "name": "stdout",
          "output_type": "stream",
          "text": [
            "[4, 3, 2, 6, 5, 9, 7]\n"
          ]
        }
      ],
      "source": [
        "print(  list(map_ele) )"
      ]
    },
    {
      "cell_type": "markdown",
      "metadata": {
        "id": "Wuin4l1C7AA6"
      },
      "source": [
        "**Filter**"
      ]
    },
    {
      "cell_type": "code",
      "execution_count": 27,
      "metadata": {
        "id": "ikvaBw_t7AA6",
        "outputId": "d8b63185-4409-4098-dd0e-4ed5a1f96962",
        "colab": {
          "base_uri": "https://localhost:8080/"
        }
      },
      "outputs": [
        {
          "output_type": "stream",
          "name": "stdout",
          "text": [
            "[3, 2, 1, 5, 4, 8, 6]\n"
          ]
        }
      ],
      "source": [
        "print(lst)"
      ]
    },
    {
      "cell_type": "code",
      "execution_count": 28,
      "metadata": {
        "id": "JDUxV8Is7AA6"
      },
      "outputs": [],
      "source": [
        "def is_even(x):\n",
        "    return x%2 == 0"
      ]
    },
    {
      "cell_type": "code",
      "execution_count": 29,
      "metadata": {
        "id": "XWgS3piR7AA6",
        "outputId": "4e728894-a01d-496b-aa8d-d2723ec7f752",
        "colab": {
          "base_uri": "https://localhost:8080/"
        }
      },
      "outputs": [
        {
          "output_type": "execute_result",
          "data": {
            "text/plain": [
              "False"
            ]
          },
          "metadata": {},
          "execution_count": 29
        }
      ],
      "source": [
        "is_even(5)"
      ]
    },
    {
      "cell_type": "code",
      "execution_count": 30,
      "metadata": {
        "id": "2w3P0BKQ7AA7",
        "outputId": "5bc3a6dd-d74b-4d2b-db2f-7161f0bc373b",
        "colab": {
          "base_uri": "https://localhost:8080/"
        }
      },
      "outputs": [
        {
          "output_type": "stream",
          "name": "stdout",
          "text": [
            "<filter object at 0x7b6990288f70>\n"
          ]
        }
      ],
      "source": [
        "filter_ele = filter(is_even, lst)\n",
        "\n",
        "print(filter_ele)"
      ]
    },
    {
      "cell_type": "code",
      "execution_count": 31,
      "metadata": {
        "id": "SmNFzDKo7AA7",
        "outputId": "182e5c41-1fa7-4dc7-ee99-b9f68c8063fb",
        "colab": {
          "base_uri": "https://localhost:8080/"
        }
      },
      "outputs": [
        {
          "output_type": "execute_result",
          "data": {
            "text/plain": [
              "[2, 4, 8, 6]"
            ]
          },
          "metadata": {},
          "execution_count": 31
        }
      ],
      "source": [
        "list(filter_ele)"
      ]
    },
    {
      "cell_type": "code",
      "source": [
        "def p_n(n):\n",
        "    for i in range(1, n+1):\n",
        "        print('* ' * i)"
      ],
      "metadata": {
        "id": "vKhT6ubw_xd3"
      },
      "execution_count": 33,
      "outputs": []
    },
    {
      "cell_type": "code",
      "source": [
        "n = 5\n",
        "p_n(n)"
      ],
      "metadata": {
        "colab": {
          "base_uri": "https://localhost:8080/"
        },
        "id": "KURHRAbNAAkQ",
        "outputId": "89411d4d-aadc-46ef-fbc2-938f020d293c"
      },
      "execution_count": 34,
      "outputs": [
        {
          "output_type": "stream",
          "name": "stdout",
          "text": [
            "* \n",
            "* * \n",
            "* * * \n",
            "* * * * \n",
            "* * * * * \n"
          ]
        }
      ]
    },
    {
      "cell_type": "markdown",
      "metadata": {
        "id": "En1foV4p7AA8"
      },
      "source": [
        "# Challenges :\n",
        "\n",
        "**Challenge 1 :** Write a function , given n = 5\n",
        "\n",
        "    *\n",
        "    * *\n",
        "    * * *\n",
        "    * * * *\n",
        "    * * * * *\n",
        "\n",
        "\n",
        "**Challenge 2 :** Write a function, that accepts an interger n and returns True if n is prime, False otherwise\n",
        "\n",
        "**Challenge 3 :** Write a function, that accepts a list of intergers, and return another list having only Prime Numbers. Please re use the function from Challenge 2."
      ]
    },
    {
      "cell_type": "code",
      "execution_count": null,
      "metadata": {
        "id": "d42so3oK7AA9"
      },
      "outputs": [],
      "source": []
    }
  ],
  "metadata": {
    "kernelspec": {
      "display_name": "Python 3",
      "language": "python",
      "name": "python3"
    },
    "language_info": {
      "codemirror_mode": {
        "name": "ipython",
        "version": 3
      },
      "file_extension": ".py",
      "mimetype": "text/x-python",
      "name": "python",
      "nbconvert_exporter": "python",
      "pygments_lexer": "ipython3",
      "version": "3.8.5"
    },
    "colab": {
      "provenance": []
    }
  },
  "nbformat": 4,
  "nbformat_minor": 0
}