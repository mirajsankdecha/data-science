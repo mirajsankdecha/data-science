{
 "cells": [
  {
   "cell_type": "markdown",
   "metadata": {
    "colab_type": "text",
    "id": "view-in-github"
   },
   "source": [
    "<a href=\"https://colab.research.google.com/github/mirajsankdecha/python/blob/main/Unit_1.ipynb\" target=\"_parent\"><img src=\"https://colab.research.google.com/assets/colab-badge.svg\" alt=\"Open In Colab\"/></a>"
   ]
  },
  {
   "cell_type": "code",
   "execution_count": 2,
   "metadata": {
    "colab": {
     "base_uri": "https://localhost:8080/"
    },
    "id": "QVyVL16dyZkS",
    "outputId": "b0fce384-2449-4cb2-baea-7f172e43aa6f"
   },
   "outputs": [
    {
     "name": "stdout",
     "output_type": "stream",
     "text": [
      "[1 2 3 4 5]\n"
     ]
    }
   ],
   "source": [
    "import numpy as np\n",
    "list1 = [1,2,3,4,5]\n",
    "array1 = np.array(list1)\n",
    "print(array1)"
   ]
  },
  {
   "cell_type": "code",
   "execution_count": null,
   "metadata": {
    "colab": {
     "base_uri": "https://localhost:8080/"
    },
    "id": "xbx4KDlm3RdO",
    "outputId": "3b04f523-c150-40bf-e649-d3609cf1cd82"
   },
   "outputs": [
    {
     "name": "stdout",
     "output_type": "stream",
     "text": [
      "[ 6  7  8  9 10]\n"
     ]
    }
   ],
   "source": [
    "list2 = [6,7,8,9,10]\n",
    "array2 = np.array(list2)\n",
    "print(array2)"
   ]
  },
  {
   "cell_type": "code",
   "execution_count": null,
   "metadata": {
    "id": "gjrYvVrZ3Xks"
   },
   "outputs": [],
   "source": [
    "array3 = np.zeros(4)\n",
    "print(array3)"
   ]
  },
  {
   "cell_type": "code",
   "execution_count": null,
   "metadata": {
    "colab": {
     "base_uri": "https://localhost:8080/"
    },
    "id": "HlnTDf-p39z_",
    "outputId": "d54a2364-43b5-4f98-bf45-cc32312af6a0"
   },
   "outputs": [
    {
     "name": "stdout",
     "output_type": "stream",
     "text": [
      "[0 1 2 3 4 5 6 7 8 9]\n"
     ]
    }
   ],
   "source": [
    "array4 = np.arange(10)\n",
    "print(array4)"
   ]
  },
  {
   "cell_type": "code",
   "execution_count": null,
   "metadata": {
    "colab": {
     "base_uri": "https://localhost:8080/"
    },
    "id": "KE2dehvh7hc2",
    "outputId": "56442e57-9d69-4118-ae9e-ad671efd2a75"
   },
   "outputs": [
    {
     "name": "stdout",
     "output_type": "stream",
     "text": [
      "[1 3 5 7]\n"
     ]
    }
   ],
   "source": [
    "array5 = np.arange(1,9,2)\n",
    "print(array5)"
   ]
  },
  {
   "cell_type": "code",
   "execution_count": null,
   "metadata": {
    "colab": {
     "base_uri": "https://localhost:8080/"
    },
    "id": "hs1eFd-n77H3",
    "outputId": "18f3186a-7295-4c21-bb92-f62d29965f7a"
   },
   "outputs": [
    {
     "name": "stdout",
     "output_type": "stream",
     "text": [
      "[0. 3. 0. 2. 6.]\n"
     ]
    }
   ],
   "source": [
    "array6 = np.floor(np.random.rand(5) * 10)\n",
    "print(array6)"
   ]
  },
  {
   "cell_type": "code",
   "execution_count": null,
   "metadata": {
    "colab": {
     "base_uri": "https://localhost:8080/"
    },
    "id": "NrePYxgR83aH",
    "outputId": "bf336aaa-3cf8-4b95-cac6-1ff76e330cea"
   },
   "outputs": [
    {
     "name": "stdout",
     "output_type": "stream",
     "text": [
      "[4.75194631e-310 0.00000000e+000 7.42861821e-091 9.15508060e-071]\n"
     ]
    }
   ],
   "source": [
    "array7 = np.empty(4)\n",
    "print(array7)"
   ]
  },
  {
   "cell_type": "code",
   "execution_count": null,
   "metadata": {
    "colab": {
     "base_uri": "https://localhost:8080/"
    },
    "id": "cKLLQA3p97Vz",
    "outputId": "07fcb42c-cd1b-4cd9-9e93-fd86ad31c291"
   },
   "outputs": [
    {
     "name": "stdout",
     "output_type": "stream",
     "text": [
      "[[ 1  2  3  4  5]\n",
      " [ 6  7  8  9 10]]\n"
     ]
    }
   ],
   "source": [
    "array8 = np.array([[1,2,3,4,5],[6,7,8,9,10]])\n",
    "print(array8)"
   ]
  },
  {
   "cell_type": "code",
   "execution_count": 3,
   "metadata": {
    "colab": {
     "base_uri": "https://localhost:8080/"
    },
    "id": "BYUt9cd2-FEG",
    "outputId": "47970c53-fa50-4c17-afe8-68f16fc5f2ed"
   },
   "outputs": [
    {
     "name": "stdout",
     "output_type": "stream",
     "text": [
      "[[[ 1  2  3  4]\n",
      "  [ 5  6  7  8]\n",
      "  [ 9 10 11 12]]\n",
      "\n",
      " [[13 14 15 16]\n",
      "  [17 18 19 20]\n",
      "  [21 22 23 24]]]\n"
     ]
    }
   ],
   "source": [
    "array9 = np.array([[[1,2,3,4],[5,6,7,8],[9,10,11,12]],[[13,14,15,16],[17,18,19,20],[21,22,23,24]]])\n",
    "print(array9)"
   ]
  },
  {
   "cell_type": "code",
   "execution_count": null,
   "metadata": {
    "colab": {
     "base_uri": "https://localhost:8080/"
    },
    "id": "HnMtZf_W_z1U",
    "outputId": "9e4e098a-a6ff-463d-f10a-b5d07e870c33"
   },
   "outputs": [
    {
     "name": "stdout",
     "output_type": "stream",
     "text": [
      "[[0. 0. 0. 0.]\n",
      " [0. 0. 0. 0.]\n",
      " [0. 0. 0. 0.]]\n",
      "--------------------\n",
      "[[[0. 0. 0. 0. 0.]\n",
      "  [0. 0. 0. 0. 0.]\n",
      "  [0. 0. 0. 0. 0.]\n",
      "  [0. 0. 0. 0. 0.]]\n",
      "\n",
      " [[0. 0. 0. 0. 0.]\n",
      "  [0. 0. 0. 0. 0.]\n",
      "  [0. 0. 0. 0. 0.]\n",
      "  [0. 0. 0. 0. 0.]]\n",
      "\n",
      " [[0. 0. 0. 0. 0.]\n",
      "  [0. 0. 0. 0. 0.]\n",
      "  [0. 0. 0. 0. 0.]\n",
      "  [0. 0. 0. 0. 0.]]]\n"
     ]
    }
   ],
   "source": [
    "# Create 2D Array by using the zeros functions\n",
    "array10 = np.zeros((3,4))\n",
    "print(array10)\n",
    "print(\"-\"*20)\n",
    "# Create 3D array by using the zeros functions\n",
    "array11 = np.zeros((3,4,5))\n",
    "print(array11)"
   ]
  },
  {
   "cell_type": "code",
   "execution_count": null,
   "metadata": {
    "colab": {
     "base_uri": "https://localhost:8080/"
    },
    "id": "yAYWvToHBXwV",
    "outputId": "02459dfa-9682-440d-85e6-e9b0cbd1b906"
   },
   "outputs": [
    {
     "name": "stdout",
     "output_type": "stream",
     "text": [
      "[[1. 1. 1. 1. 1.]\n",
      " [1. 1. 1. 1. 1.]\n",
      " [1. 1. 1. 1. 1.]]\n"
     ]
    }
   ],
   "source": [
    "array11 = np.ones((3,5))\n",
    "print(array11)"
   ]
  },
  {
   "cell_type": "code",
   "execution_count": null,
   "metadata": {
    "colab": {
     "base_uri": "https://localhost:8080/"
    },
    "id": "ib8wTAqNCA2E",
    "outputId": "effa9599-a872-4de8-8ffe-dd82077c0623"
   },
   "outputs": [
    {
     "name": "stdout",
     "output_type": "stream",
     "text": [
      "[[[1. 1. 1. 1.]\n",
      "  [1. 1. 1. 1.]\n",
      "  [1. 1. 1. 1.]]\n",
      "\n",
      " [[1. 1. 1. 1.]\n",
      "  [1. 1. 1. 1.]\n",
      "  [1. 1. 1. 1.]]]\n"
     ]
    }
   ],
   "source": [
    "array12 = np.ones((2,3,4))\n",
    "print(array12)"
   ]
  },
  {
   "cell_type": "code",
   "execution_count": 3,
   "metadata": {
    "colab": {
     "base_uri": "https://localhost:8080/"
    },
    "id": "WkM1slilCcOu",
    "outputId": "34636002-7245-4e6c-ed35-652fb9a3c100"
   },
   "outputs": [
    {
     "name": "stdout",
     "output_type": "stream",
     "text": [
      "[[5 5]\n",
      " [5 5]]\n"
     ]
    }
   ],
   "source": [
    "array13 = np.full((2,2),5)\n",
    "print(array13)"
   ]
  },
  {
   "cell_type": "code",
   "execution_count": null,
   "metadata": {
    "colab": {
     "base_uri": "https://localhost:8080/"
    },
    "id": "YzTnr2AWDalp",
    "outputId": "884cb33f-39c2-44f3-8256-8c1f6a82f944"
   },
   "outputs": [
    {
     "name": "stdout",
     "output_type": "stream",
     "text": [
      "[[2. 8.]\n",
      " [0. 8.]]\n",
      "--------------------\n",
      "[[[2. 5.]\n",
      "  [5. 3.]]\n",
      "\n",
      " [[7. 2.]\n",
      "  [7. 9.]]]\n"
     ]
    }
   ],
   "source": [
    "# 2D Random Array\n",
    "array14 = np.floor(np.random.rand(2,2) * 10)\n",
    "print(array14)\n",
    "print(\"-\"*20)\n",
    "# 3D Random Array\n",
    "array15 = np.floor(np.random.rand(2,2,2) * 10)\n",
    "print(array15)"
   ]
  },
  {
   "cell_type": "code",
   "execution_count": 6,
   "metadata": {
    "colab": {
     "base_uri": "https://localhost:8080/"
    },
    "id": "DKBsg0G6DoAK",
    "outputId": "d0aab089-a67f-4f6a-d99f-9a4d4eb775a9"
   },
   "outputs": [
    {
     "name": "stdout",
     "output_type": "stream",
     "text": [
      "int64\n"
     ]
    }
   ],
   "source": [
    "array16 = np.array([2,4,9])\n",
    "print(array16.dtype) # Gives Data type of particular object"
   ]
  },
  {
   "cell_type": "code",
   "execution_count": 7,
   "metadata": {
    "colab": {
     "base_uri": "https://localhost:8080/"
    },
    "id": "nQXduz-3NDiN",
    "outputId": "1f5a3027-e4b0-44e2-af7a-3c57ba0b9696"
   },
   "outputs": [
    {
     "name": "stdout",
     "output_type": "stream",
     "text": [
      "int64\n",
      "float64\n",
      "complex128\n"
     ]
    }
   ],
   "source": [
    "int_array = np.array([-3,-1,0,1])\n",
    "float_array = np.array([0.1,0.2,0.3])\n",
    "complex_array = np.array([1+2j,2+3j,3+4j])\n",
    "print(int_array.dtype)\n",
    "print(float_array.dtype)\n",
    "print(complex_array.dtype)"
   ]
  },
  {
   "cell_type": "code",
   "execution_count": 8,
   "metadata": {
    "colab": {
     "base_uri": "https://localhost:8080/"
    },
    "id": "6JCaXsBUQJSZ",
    "outputId": "45715fa0-3bd1-439d-a6b2-237e5da50a57"
   },
   "outputs": [
    {
     "name": "stdout",
     "output_type": "stream",
     "text": [
      "[1 2 3 4 5] int64\n"
     ]
    }
   ],
   "source": [
    "array17 = np.array([1,3,7], dtype='int32')\n",
    "print(array1,array1.dtype)"
   ]
  },
  {
   "cell_type": "code",
   "execution_count": null,
   "metadata": {
    "id": "iWA_yY6SRNIv"
   },
   "outputs": [],
   "source": [
    "int_array1 = np.array([1,2,3], dtype='int8')\n",
    "int_array2 = np.array([5,6,7], dtype='int16')\n",
    "float_array = np.array([0.1,0.2,0.3], dtype='float32')\n",
    "complex_array = np.array([1+2j,2+3j,3+4j], dtype='complex64')\n",
    "print(int_array1.dtype)\n",
    "print(int_array2.dtype)\n",
    "print(float_array.dtype)\n",
    "print(complex_array.dtype)"
   ]
  },
  {
   "cell_type": "code",
   "execution_count": 9,
   "metadata": {
    "colab": {
     "base_uri": "https://localhost:8080/"
    },
    "id": "Jj0wsEWvTMqP",
    "outputId": "69b5ea75-6c60-4932-8009-ab2ed8ccc563"
   },
   "outputs": [
    {
     "name": "stdout",
     "output_type": "stream",
     "text": [
      "[1 3 5 7] int64\n",
      "[1. 3. 5. 7.] float64\n"
     ]
    }
   ],
   "source": [
    "int_array = np.array([1,3,5,7])\n",
    "# convert data type of int_array to float\n",
    "float_array = int_array.astype('float64')\n",
    "# print the arrays and their data types\n",
    "print(int_array, int_array.dtype)\n",
    "print(float_array, float_array.dtype)"
   ]
  },
  {
   "cell_type": "code",
   "execution_count": 15,
   "metadata": {
    "colab": {
     "base_uri": "https://localhost:8080/"
    },
    "id": "oxcv6m8WUqTf",
    "outputId": "dca967b0-55a0-4929-a000-57cc88f00004"
   },
   "outputs": [
    {
     "name": "stdout",
     "output_type": "stream",
     "text": [
      "1\n",
      "3\n"
     ]
    }
   ],
   "source": [
    "array18 = np.arange(1,10)\n",
    "print(array18.ndim)\n",
    "array19= np.array([[[1,2,3],[4,5,6]],[[7,8,9],[10,11,12]]])\n",
    "print(array19.ndim)"
   ]
  }
 ],
 "metadata": {
  "colab": {
   "authorship_tag": "ABX9TyN9+0EX5TmHhxuYTi3G5WqX",
   "include_colab_link": true,
   "provenance": []
  },
  "kernelspec": {
   "display_name": "Python 3",
   "name": "python3"
  },
  "language_info": {
   "codemirror_mode": {
    "name": "ipython",
    "version": 3
   },
   "file_extension": ".py",
   "mimetype": "text/x-python",
   "name": "python",
   "nbconvert_exporter": "python",
   "pygments_lexer": "ipython3",
   "version": "3.12.5"
  }
 },
 "nbformat": 4,
 "nbformat_minor": 0
}
