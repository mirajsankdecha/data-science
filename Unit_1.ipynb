{
  "nbformat": 4,
  "nbformat_minor": 0,
  "metadata": {
    "colab": {
      "provenance": [],
      "authorship_tag": "ABX9TyN2q7V2BBGZUFM3+VZfMMt4",
      "include_colab_link": true
    },
    "kernelspec": {
      "name": "python3",
      "display_name": "Python 3"
    },
    "language_info": {
      "name": "python"
    }
  },
  "cells": [
    {
      "cell_type": "markdown",
      "metadata": {
        "id": "view-in-github",
        "colab_type": "text"
      },
      "source": [
        "<a href=\"https://colab.research.google.com/github/mirajsankdecha/python/blob/main/Unit_1.ipynb\" target=\"_parent\"><img src=\"https://colab.research.google.com/assets/colab-badge.svg\" alt=\"Open In Colab\"/></a>"
      ]
    },
    {
      "cell_type": "code",
      "execution_count": 1,
      "metadata": {
        "id": "QVyVL16dyZkS",
        "colab": {
          "base_uri": "https://localhost:8080/"
        },
        "outputId": "95a14cda-3568-422a-c1e5-75c499d711d5"
      },
      "outputs": [
        {
          "output_type": "stream",
          "name": "stdout",
          "text": [
            "[1 2 3 4 5]\n"
          ]
        }
      ],
      "source": [
        "import numpy as np\n",
        "list1 = [1,2,3,4,5]\n",
        "array1 = np.array(list1)\n",
        "print(array1)"
      ]
    },
    {
      "cell_type": "code",
      "source": [
        "list2 = [6,7,8,9,10]\n",
        "array2 = np.array(list2)\n",
        "print(array2)"
      ],
      "metadata": {
        "colab": {
          "base_uri": "https://localhost:8080/"
        },
        "id": "xbx4KDlm3RdO",
        "outputId": "3b04f523-c150-40bf-e649-d3609cf1cd82"
      },
      "execution_count": 2,
      "outputs": [
        {
          "output_type": "stream",
          "name": "stdout",
          "text": [
            "[ 6  7  8  9 10]\n"
          ]
        }
      ]
    },
    {
      "cell_type": "code",
      "source": [
        "array3 = np.zeros(4)\n",
        "print(array3)"
      ],
      "metadata": {
        "id": "gjrYvVrZ3Xks"
      },
      "execution_count": null,
      "outputs": []
    },
    {
      "cell_type": "code",
      "source": [
        "array4 = np.arange(10)\n",
        "print(array4)"
      ],
      "metadata": {
        "colab": {
          "base_uri": "https://localhost:8080/"
        },
        "id": "HlnTDf-p39z_",
        "outputId": "d54a2364-43b5-4f98-bf45-cc32312af6a0"
      },
      "execution_count": 3,
      "outputs": [
        {
          "output_type": "stream",
          "name": "stdout",
          "text": [
            "[0 1 2 3 4 5 6 7 8 9]\n"
          ]
        }
      ]
    },
    {
      "cell_type": "code",
      "source": [
        "array5 = np.arange(1,9,2)\n",
        "print(array5)"
      ],
      "metadata": {
        "colab": {
          "base_uri": "https://localhost:8080/"
        },
        "id": "KE2dehvh7hc2",
        "outputId": "56442e57-9d69-4118-ae9e-ad671efd2a75"
      },
      "execution_count": 4,
      "outputs": [
        {
          "output_type": "stream",
          "name": "stdout",
          "text": [
            "[1 3 5 7]\n"
          ]
        }
      ]
    },
    {
      "cell_type": "code",
      "source": [
        "array6 = np.floor(np.random.rand(5) * 10)\n",
        "print(array6)"
      ],
      "metadata": {
        "colab": {
          "base_uri": "https://localhost:8080/"
        },
        "id": "hs1eFd-n77H3",
        "outputId": "18f3186a-7295-4c21-bb92-f62d29965f7a"
      },
      "execution_count": 13,
      "outputs": [
        {
          "output_type": "stream",
          "name": "stdout",
          "text": [
            "[0. 3. 0. 2. 6.]\n"
          ]
        }
      ]
    },
    {
      "cell_type": "code",
      "source": [
        "array7 = np.empty(4)\n",
        "print(array7)"
      ],
      "metadata": {
        "colab": {
          "base_uri": "https://localhost:8080/"
        },
        "id": "NrePYxgR83aH",
        "outputId": "bf336aaa-3cf8-4b95-cac6-1ff76e330cea"
      },
      "execution_count": 11,
      "outputs": [
        {
          "output_type": "stream",
          "name": "stdout",
          "text": [
            "[4.75194631e-310 0.00000000e+000 7.42861821e-091 9.15508060e-071]\n"
          ]
        }
      ]
    },
    {
      "cell_type": "code",
      "source": [
        "array8 = np.array([[1,2,3,4,5],[6,7,8,9,10]])\n",
        "print(array8)"
      ],
      "metadata": {
        "colab": {
          "base_uri": "https://localhost:8080/"
        },
        "id": "cKLLQA3p97Vz",
        "outputId": "07fcb42c-cd1b-4cd9-9e93-fd86ad31c291"
      },
      "execution_count": 15,
      "outputs": [
        {
          "output_type": "stream",
          "name": "stdout",
          "text": [
            "[[ 1  2  3  4  5]\n",
            " [ 6  7  8  9 10]]\n"
          ]
        }
      ]
    },
    {
      "cell_type": "code",
      "source": [
        "array9 = np.array([[[1,2,3,4],[5,6,7,8],[9,10,11,12]],[[13,14,15,16],[17,18,19,20],[21,22,23,24]]])\n",
        "print(array9)"
      ],
      "metadata": {
        "colab": {
          "base_uri": "https://localhost:8080/"
        },
        "id": "BYUt9cd2-FEG",
        "outputId": "47970c53-fa50-4c17-afe8-68f16fc5f2ed"
      },
      "execution_count": 16,
      "outputs": [
        {
          "output_type": "stream",
          "name": "stdout",
          "text": [
            "[[[ 1  2  3  4]\n",
            "  [ 5  6  7  8]\n",
            "  [ 9 10 11 12]]\n",
            "\n",
            " [[13 14 15 16]\n",
            "  [17 18 19 20]\n",
            "  [21 22 23 24]]]\n"
          ]
        }
      ]
    },
    {
      "cell_type": "code",
      "source": [
        "# Create 2D Array by using the zeros functions\n",
        "array10 = np.zeros((3,4))\n",
        "print(array10)\n",
        "# Create 3D array by using the zeros functions\n",
        "array11 = np .zeros((3,4,5))\n",
        "print(array11)"
      ],
      "metadata": {
        "id": "HnMtZf_W_z1U"
      },
      "execution_count": null,
      "outputs": []
    }
  ]
}